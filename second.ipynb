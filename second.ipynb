{
 "cells": [
  {
   "cell_type": "code",
   "execution_count": 1,
   "metadata": {},
   "outputs": [
    {
     "name": "stdout",
     "output_type": "stream",
     "text": [
      "Hello\n"
     ]
    }
   ],
   "source": [
    "print(\"Hello\")"
   ]
  },
  {
   "cell_type": "code",
   "execution_count": 2,
   "metadata": {},
   "outputs": [],
   "source": [
    "a = [2.3, 'Hello', 5, 8, 9, 800]"
   ]
  },
  {
   "cell_type": "code",
   "execution_count": 3,
   "metadata": {},
   "outputs": [
    {
     "data": {
      "text/plain": [
       "'Hello'"
      ]
     },
     "execution_count": 3,
     "metadata": {},
     "output_type": "execute_result"
    }
   ],
   "source": [
    "#must use square brackets\n",
    "a[1]"
   ]
  },
  {
   "cell_type": "code",
   "execution_count": 4,
   "metadata": {},
   "outputs": [],
   "source": [
    "list_1 = list(range(1,5))"
   ]
  },
  {
   "cell_type": "code",
   "execution_count": 5,
   "metadata": {},
   "outputs": [
    {
     "name": "stdout",
     "output_type": "stream",
     "text": [
      "Nothing done.\n"
     ]
    }
   ],
   "source": [
    "#%reset"
   ]
  },
  {
   "cell_type": "code",
   "execution_count": 6,
   "metadata": {},
   "outputs": [
    {
     "data": {
      "text/plain": [
       "[1, 2, 3, 4]"
      ]
     },
     "execution_count": 6,
     "metadata": {},
     "output_type": "execute_result"
    }
   ],
   "source": [
    "list_1"
   ]
  },
  {
   "cell_type": "code",
   "execution_count": 7,
   "metadata": {},
   "outputs": [],
   "source": [
    "x=0"
   ]
  },
  {
   "cell_type": "code",
   "execution_count": 8,
   "metadata": {},
   "outputs": [
    {
     "name": "stdout",
     "output_type": "stream",
     "text": [
      "Is smaller than 5\n"
     ]
    }
   ],
   "source": [
    "if x > 5:\n",
    "\tprint('Is bigger than 5')\n",
    "elif x == 5:\n",
    "\tprint('Is 5')\n",
    "else:\n",
    "\tprint('Is smaller than 5')\n"
   ]
  },
  {
   "cell_type": "code",
   "execution_count": 9,
   "metadata": {},
   "outputs": [],
   "source": [
    "a=2"
   ]
  },
  {
   "cell_type": "code",
   "execution_count": 10,
   "metadata": {},
   "outputs": [
    {
     "data": {
      "text/plain": [
       "4"
      ]
     },
     "execution_count": 10,
     "metadata": {},
     "output_type": "execute_result"
    }
   ],
   "source": [
    "a*2\n"
   ]
  },
  {
   "cell_type": "code",
   "execution_count": 11,
   "metadata": {},
   "outputs": [],
   "source": [
    "dictionary = {'Name':'John', 'blame':'Jane'}"
   ]
  },
  {
   "cell_type": "code",
   "execution_count": 12,
   "metadata": {},
   "outputs": [
    {
     "data": {
      "text/plain": [
       "dict_items([('Name', 'John'), ('blame', 'Jane')])"
      ]
     },
     "execution_count": 12,
     "metadata": {},
     "output_type": "execute_result"
    }
   ],
   "source": [
    "dictionary.items()"
   ]
  },
  {
   "cell_type": "code",
   "execution_count": 13,
   "metadata": {},
   "outputs": [
    {
     "data": {
      "text/plain": [
       "dict_keys(['Name', 'blame'])"
      ]
     },
     "execution_count": 13,
     "metadata": {},
     "output_type": "execute_result"
    }
   ],
   "source": [
    "dictionary.keys()"
   ]
  },
  {
   "cell_type": "code",
   "execution_count": 14,
   "metadata": {},
   "outputs": [
    {
     "data": {
      "text/plain": [
       "dict_values(['John', 'Jane'])"
      ]
     },
     "execution_count": 14,
     "metadata": {},
     "output_type": "execute_result"
    }
   ],
   "source": [
    "dictionary.values()"
   ]
  },
  {
   "cell_type": "code",
   "execution_count": 15,
   "metadata": {},
   "outputs": [
    {
     "ename": "NameError",
     "evalue": "name 'stringy' is not defined",
     "output_type": "error",
     "traceback": [
      "\u001b[1;31m---------------------------------------------------------------------------\u001b[0m",
      "\u001b[1;31mNameError\u001b[0m                                 Traceback (most recent call last)",
      "\u001b[1;32m<ipython-input-15-64c3e59c6767>\u001b[0m in \u001b[0;36m<module>\u001b[1;34m\u001b[0m\n\u001b[1;32m----> 1\u001b[1;33m \u001b[1;33m[\u001b[0m\u001b[0mint\u001b[0m\u001b[1;33m(\u001b[0m\u001b[0mi\u001b[0m\u001b[1;33m)\u001b[0m \u001b[1;32mfor\u001b[0m \u001b[0mi\u001b[0m \u001b[1;32min\u001b[0m \u001b[0mstringy\u001b[0m\u001b[1;33m]\u001b[0m\u001b[1;33m\u001b[0m\u001b[1;33m\u001b[0m\u001b[0m\n\u001b[0m",
      "\u001b[1;31mNameError\u001b[0m: name 'stringy' is not defined"
     ]
    }
   ],
   "source": [
    "[int(i) for i in stringy]"
   ]
  },
  {
   "cell_type": "code",
   "execution_count": null,
   "metadata": {},
   "outputs": [],
   "source": [
    "#Bob is preparing to pass IQ test. The most frequent task in this test is to find out\n",
    "#which one of the given numbers differs from the others. Bob observed that one\n",
    "#number usually differs from the others in evenness. Help Bob — to check his\n",
    "#answers, he needs a program that among the given numbers finds one that is\n",
    "#different in evenness, and return a position of this number.!\n",
    "#\n",
    "#Keep in mind that your task is to help Bob solve a real IQ test, which means indexes\n",
    "#of the elements start from 1 (not 0)\n",
    "#\n",
    "#Also, you can not use for loop to solve this,\n",
    "#\n",
    "#Examples :\n",
    "#iq_test(“2 4 7 8 10”) => 3 // Third number is odd, while the rest of the numbers are even\n",
    "#\n",
    "#iq_test(“1 2 1 1”) => 2 // Second number is even, while the rest of the numbers are odd"
   ]
  },
  {
   "cell_type": "code",
   "execution_count": null,
   "metadata": {},
   "outputs": [
    {
     "name": "stdout",
     "output_type": "stream",
     "text": [
      "7\n",
      "4\n"
     ]
    }
   ],
   "source": [
    "def iq_test (string_of_nums):\n",
    "    separate = string_of_nums.split(' ')    #divide into separate digits (separated by a space)\n",
    "    separate_as_ints = [int(num) for num in separate]     # convert digits from strings into integers\n",
    "    \n",
    "\n",
    "    evens = [True if num % 2 ==0 else False for num in separate_as_ints] # list with True for even nums\n",
    "    odds = [True if num % 2 ==1 else False for num in separate_as_ints] # list with True for odd nums\n",
    "\n",
    "    if sum(evens)>sum(odds):            # if majority evens, we want to find the odd\n",
    "        result = [(index+1, num) for index, num in enumerate (separate_as_ints) if num%2 == 1]\n",
    "    else:                               # if majority odds, we want to find the even\n",
    "        result = [(index+1, num) for index, num in enumerate(separate_as_ints) if num%2 == 0]\n",
    "    \n",
    "    return result[0][0]     #result is a list with one element that is a tuple, and we want to access the 0th element of the tuple.\n",
    "            \n",
    "    \n",
    "\n",
    "print (iq_test(\"1 1 3 5 5 7 8\"))\n",
    "print (iq_test(\"1 1 3 4 5 7 9\"))"
   ]
  },
  {
   "cell_type": "code",
   "execution_count": 6,
   "metadata": {},
   "outputs": [],
   "source": [
    "# https://www.freecodecamp.org/news/python-map-explained-with-examples/\n",
    "\n",
    "def iq_test(nums):\n",
    "  nums= nums.split() #split the string into a list of strings\n",
    "  nums = list(map(int, nums)) #turn the strings into integers\n",
    "  nums = list(map(lambda x: x%2, nums)) #see which are divisible by 2 and return a boolean list\n",
    "  if nums.count(0) == 1: #this logic only works for a single instance of an odd/even number, preferring even numbers in theory\n",
    "    return nums.index(0) + 1\n",
    "  else:\n",
    "    return nums.index(1) + 1"
   ]
  },
  {
   "cell_type": "code",
   "execution_count": 7,
   "metadata": {},
   "outputs": [
    {
     "data": {
      "text/plain": [
       "2"
      ]
     },
     "execution_count": 7,
     "metadata": {},
     "output_type": "execute_result"
    }
   ],
   "source": [
    "iq_test(\"2 4 6 7 8\")"
   ]
  },
  {
   "cell_type": "code",
   "execution_count": 1,
   "metadata": {},
   "outputs": [],
   "source": [
    "#%reset"
   ]
  },
  {
   "cell_type": "code",
   "execution_count": 8,
   "metadata": {},
   "outputs": [],
   "source": [
    "nums1 = \"2 4 6 7 8\""
   ]
  },
  {
   "cell_type": "code",
   "execution_count": 18,
   "metadata": {},
   "outputs": [
    {
     "name": "stdout",
     "output_type": "stream",
     "text": [
      "True\n",
      "True\n",
      "False\n",
      "Process finished --- 0.0 seconds ---\n"
     ]
    }
   ],
   "source": [
    "#5\n",
    "#Complete the function scramble(str1, str2) that returns true if a portion of str1 characters can be rearranged to match str2, otherwise returns false.\n",
    "#Notes:\n",
    "#Only lower case letters will be used (a-z). No punctuation or digits will be included.\n",
    "#Performance needs to be considered\n",
    "#Input strings s1 and s2 are null terminated.\n",
    "#Examples\n",
    "#scramble(‘rkqodlw’, ‘world’) ==> True\n",
    "#scramble(‘cedewaraaossoqqyt’, ‘codewars’) ==> True\n",
    "#scramble(‘katas’, ‘steak’) ==> False\n",
    "import time\n",
    "start_time = time.time()\n",
    "\n",
    "\n",
    "def scramble(str1, str2):\n",
    "    dict_str1 = {char: str1.count(char) for char in str1}\n",
    "    dict_str2 = {char: str2.count(char) for char in str2}\n",
    "\n",
    "# If any letter in str2 appears more often than it does \n",
    "# in str1, we return False. \n",
    "# Otherwise return True. \n",
    "\n",
    "    for key in dict_str2:                       \n",
    "        if key not in dict_str1:\n",
    "            return False\n",
    "        elif dict_str2[key] > dict_str1[key]:\n",
    "            return False\n",
    "    return True\n",
    "\n",
    "\n",
    "print(scramble('rkqodlw', 'world'))\n",
    "print(scramble('cedewaraaossoqqyt', 'codewars'))\n",
    "print(scramble('katas', 'steak'))\n",
    "\n",
    "print(\"Process finished --- %s seconds ---\" % (time.time() - start_time))"
   ]
  },
  {
   "cell_type": "code",
   "execution_count": 1,
   "metadata": {},
   "outputs": [
    {
     "name": "stdout",
     "output_type": "stream",
     "text": [
      "True\n",
      "True\n",
      "False\n"
     ]
    }
   ],
   "source": [
    "# Solution 1\n",
    "\n",
    "#import time\n",
    "#start_time = time.time()\n",
    "\n",
    "\n",
    "def bla(str1,str2):\n",
    "    for c in set(str2):\n",
    "        if str1.count(c) < str2.count(c):\n",
    "            return False\n",
    "    return True\n",
    "\n",
    "\n",
    "print(bla('rkqodlw', 'world'))\n",
    "print(bla('cedewaraaossoqqyt', 'codewars'))\n",
    "print(bla('katas', 'steak'))\n",
    "\n",
    "\n",
    "#print(\"Process finished --- %s seconds ---\" % (time.time() - start_time))"
   ]
  },
  {
   "cell_type": "code",
   "execution_count": null,
   "metadata": {},
   "outputs": [],
   "source": []
  },
  {
   "cell_type": "code",
   "execution_count": 23,
   "metadata": {},
   "outputs": [
    {
     "name": "stdout",
     "output_type": "stream",
     "text": [
      "True\n",
      "True\n",
      "False\n",
      "Process finished --- 0.0005025863647460938 seconds ---\n"
     ]
    }
   ],
   "source": [
    "# Solution 2\n",
    "\n",
    "import time\n",
    "start_time = time.time()\n",
    "\n",
    "from collections import Counter\n",
    "\n",
    "def scramble(str1,str2):\n",
    "   return len(Counter(str2) - Counter(str1)) == 0\n",
    "\n",
    "print(scramble('rkqodlw', 'world'))\n",
    "print(scramble('cedewaraaossoqqyt', 'codewars'))\n",
    "print(scramble('katas', 'steak'))\n",
    "\n",
    "print(\"Process finished --- %s seconds ---\" % (time.time() - start_time))"
   ]
  },
  {
   "cell_type": "code",
   "execution_count": 26,
   "metadata": {},
   "outputs": [
    {
     "name": "stdout",
     "output_type": "stream",
     "text": [
      "{'starting index': 3, 'final index': 6, 'maximum sum': 6}\n"
     ]
    }
   ],
   "source": [
    "#6\n",
    "#The maximum sum subarray problem consists in finding the maximum sum of a\n",
    "#contiguous subsequence in an array or list of integers:\n",
    "\n",
    "#maxSequence([-2, 1, -3, 4, -1, 2, 1, -5, 4])\n",
    "# It should return 6 that is sum of these 4 numbers [4, -1, 2, 1]\n",
    "#Easy case is when the list is made up of only positive numbers and the maximum\n",
    "#sum is the sum of the whole array. If the list is made up of only negative numbers,\n",
    "#return 0 instead.\n",
    "\n",
    "#Empty list is considered to have zero greatest sum. Note that the empty list or array is\n",
    "#also a valid sublist/subarray.\n",
    "\n",
    "def maxSequence(sequence):\n",
    "\n",
    "    # store length of sequence as variable\n",
    "    length_n = len(sequence)\n",
    "\n",
    "    # Use nested list comprehensions.\n",
    "\n",
    "    # Pick a starting position \"i\" in the sequence. \n",
    "    # Let \"j\" be the position with respect to the \"i\" position. \n",
    "    # Then \"j\" will go from the current \"i\" position to the end of the sequence.\n",
    "    # Every sub-sequence will go from the \"i\" index to the \"j\" index of the sequence.\n",
    "\n",
    "    # For every fixed \"i\", sum all values from \"i\" position to \"j\" position (inner list comprehension)\n",
    "    # Loop \"i\" from start of the sequence to the end (outer list comprehension)\n",
    "\n",
    "    sums_of_sequence = [[sum(sequence[i:j]) for j in range (i+1,length_n + 1)] for i in range (length_n)]\n",
    "    # Now we have a list of sublists.\n",
    "    \n",
    "    # find the maximum value in each sublist\n",
    "    local_max = [max(sub_list) for sub_list in sums_of_sequence]\n",
    "\n",
    "    # now find the global maximum\n",
    "    global_max = max(local_max)\n",
    "\n",
    "\n",
    "    # As a bonus, let's try to find the starting and ending positions of \n",
    "    # the sub-sequence that will sum to the global_max\n",
    "\n",
    "    i_index = local_max.index(global_max) # Starting position\n",
    "    j_index = sums_of_sequence[i_index].index(global_max) # Ending position (with respect to starting position)\n",
    "\n",
    "\n",
    "    return {\"starting index\": i_index, \"final index\": i_index + j_index, \"maximum sum\": global_max}\n",
    "\n",
    "\n",
    "\n",
    "print (maxSequence([-2, 1, -3, 4, -1, 2, 1, -5, 4]))"
   ]
  },
  {
   "cell_type": "code",
   "execution_count": 2,
   "metadata": {},
   "outputs": [],
   "source": [
    "def maxSequence(arr):\n",
    "    \n",
    "    if (not arr) or all(i < 0 for i in arr):\n",
    "        return 0\n",
    "    \n",
    "    max_ending_here = max_so_far = arr[0]\n",
    "\n",
    "    for i in arr[1:]:\n",
    "    # it will give the max sum of the numbers till ending with i   \n",
    "      max_ending_here  = max(i, max_ending_here  + i)  \n",
    "    # max_so_far is updated when max_ending_here exceeds it\n",
    "      max_so_far = max(max_ending_here, max_so_far)\n",
    "    \n",
    "    return max_so_far"
   ]
  },
  {
   "cell_type": "code",
   "execution_count": 3,
   "metadata": {},
   "outputs": [
    {
     "data": {
      "text/plain": [
       "6"
      ]
     },
     "execution_count": 3,
     "metadata": {},
     "output_type": "execute_result"
    }
   ],
   "source": [
    "maxSequence([-2, 1, -3, 4, -1, 2, 1, -5, 4])"
   ]
  },
  {
   "cell_type": "code",
   "execution_count": 15,
   "metadata": {},
   "outputs": [
    {
     "name": "stdout",
     "output_type": "stream",
     "text": [
      "[20, 24, 14, 9, 12, 13, 25, 23, 40, 11]\n",
      "Oldest age  40  Youngest age  9\n",
      "[20, 24, 14, 12, 13, 25, 23, 40, 11]\n",
      "[20, 24, 14, 12, 13, 25, 23, 11]\n"
     ]
    }
   ],
   "source": [
    "#Exercise: 12 remove the youngest and oldest\n",
    "def remove_age(AgeList, ageToRemove):\n",
    "        AgeList.remove(ageToRemove)\n",
    "\n",
    "ages = [20, 24, 14, 9, 12, 13, 25, 23, 40, 11]\n",
    "\n",
    "youngestAge = ages[0]\n",
    "olderstAge = ages[0]\n",
    "print (ages)\n",
    "for age in ages:\n",
    "    if(youngestAge > age):\n",
    "        youngestAge = age\n",
    "    if (olderstAge < age):\n",
    "        olderstAge = age\n",
    "\n",
    "print (\"Oldest age \", olderstAge, \" Youngest age \", youngestAge)\n",
    "remove_age(ages, youngestAge)\n",
    "print (ages)\n",
    "remove_age(ages, olderstAge)\n",
    "print(ages)"
   ]
  },
  {
   "cell_type": "code",
   "execution_count": 16,
   "metadata": {},
   "outputs": [
    {
     "name": "stdout",
     "output_type": "stream",
     "text": [
      "[15, 13, 16, 18, 19, 15, 10]\n",
      "{10, 13, 15, 16, 18, 19}\n"
     ]
    }
   ],
   "source": [
    "#Exercise 14 Remove the duplicates from a list of ages\n",
    "def removeDup (Ages):\n",
    "    return (set(Ages))\n",
    "\n",
    "ListAge = [15,13,16,18,19,15,10]\n",
    "print (ListAge)\n",
    "print (removeDup(ListAge))"
   ]
  }
 ],
 "metadata": {
  "interpreter": {
   "hash": "b3ba2566441a7c06988d0923437866b63cedc61552a5af99d1f4fb67d367b25f"
  },
  "kernelspec": {
   "display_name": "Python 3.8.8 64-bit ('base': conda)",
   "name": "python3"
  },
  "language_info": {
   "codemirror_mode": {
    "name": "ipython",
    "version": 3
   },
   "file_extension": ".py",
   "mimetype": "text/x-python",
   "name": "python",
   "nbconvert_exporter": "python",
   "pygments_lexer": "ipython3",
   "version": "3.8.8"
  },
  "orig_nbformat": 4
 },
 "nbformat": 4,
 "nbformat_minor": 2
}
