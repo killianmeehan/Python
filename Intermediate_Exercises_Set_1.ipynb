{
 "cells": [
  {
   "cell_type": "code",
   "execution_count": 69,
   "metadata": {},
   "outputs": [
    {
     "name": "stdout",
     "output_type": "stream",
     "text": [
      "3\n"
     ]
    }
   ],
   "source": [
    "#1\n",
    "\n",
    "#list = [2, 4, 0, 100, 4, 11, 2602, 36]\n",
    "#list = [160, 3, 1719, 19, 11, 13, -21]\n",
    "#list = [2,4,6,8,10,3]\n",
    "\n",
    "\n",
    "def find_outlier(list):\n",
    "\n",
    "    evens = [num%2 ==0 for num in list]     # list of True/False for num == even\n",
    "    evens_count = sum(evens)                # number of even numbers in list\n",
    "\n",
    "    if evens_count + 1 == len(list):        # if majority even numbers\n",
    "        false_index = evens.index(False)\n",
    "        return (list[false_index])\n",
    "    else:                                   # if majority odd numbers\n",
    "        true_index = evens.index(True)\n",
    "        return (list[true_index])\n",
    "\n",
    "\n",
    "print (find_outlier ([2,4,6,8,10,3]))"
   ]
  },
  {
   "cell_type": "code",
   "execution_count": 70,
   "metadata": {},
   "outputs": [],
   "source": [
    "#2\n",
    "\n",
    "def array_diff(a, b):\n",
    "    difference = [num for num in a if num not in b]\n",
    "    return difference"
   ]
  },
  {
   "cell_type": "code",
   "execution_count": 71,
   "metadata": {},
   "outputs": [
    {
     "name": "stdout",
     "output_type": "stream",
     "text": [
      "Bart, Lisa & Maggie\n"
     ]
    }
   ],
   "source": [
    "#3 \n",
    "\n",
    "list = [ {'name': 'Bart'}, {'name': 'Lisa'}, {'name': 'Maggie'}]\n",
    "\n",
    "def namelist(list_of_dicts):\n",
    "    names = [person['name'] for person in list_of_dicts]\n",
    "    n = len(names)              # store number of people\n",
    "\n",
    "    if n == 0:\n",
    "        result = ''\n",
    "\n",
    "    elif n == 1:                  # If only one person\n",
    "        result = names[0]\n",
    "\n",
    "    elif n >=2:                 # If two or more people\n",
    "        result = ', '.join(names[0:n-1])\n",
    "        result = result + ' & ' + names[-1]\n",
    "    \n",
    "    return result\n",
    "\n",
    "print (namelist(list))\n"
   ]
  },
  {
   "cell_type": "code",
   "execution_count": 72,
   "metadata": {},
   "outputs": [
    {
     "name": "stdout",
     "output_type": "stream",
     "text": [
      "[1, 2]\n"
     ]
    }
   ],
   "source": [
    "#4\n",
    "\n",
    "def filter_list(list):\n",
    "    new_list = [item for item in list if type(item) != str]\n",
    "    return new_list\n",
    "\n",
    "print(filter_list([1,2,'a','b']))"
   ]
  },
  {
   "cell_type": "code",
   "execution_count": 73,
   "metadata": {},
   "outputs": [
    {
     "name": "stdout",
     "output_type": "stream",
     "text": [
      "5\n"
     ]
    }
   ],
   "source": [
    "#5\n",
    "\n",
    "def find_it(list):\n",
    "    list_as_set = set(list) # create set to drop duplicates\n",
    "    count_list = [(num, list.count(num)) for num in list_as_set] # list of tuples (number, count)\n",
    "\n",
    "    # loop over the tuples, find number with an odd count.\n",
    "    for tup in count_list:\n",
    "        if tup[1]%2 == 1:\n",
    "            return tup[0]\n",
    "\n",
    "print(find_it([20,1,-1,2,-2,3,3,5,5,1,2,4,20,4,-1,-2,5]))\n"
   ]
  },
  {
   "cell_type": "code",
   "execution_count": 74,
   "metadata": {},
   "outputs": [
    {
     "name": "stdout",
     "output_type": "stream",
     "text": [
      "True\n",
      "False\n",
      "True\n"
     ]
    }
   ],
   "source": [
    "#6\n",
    "\n",
    "def XO(string):\n",
    "    string.lower()\n",
    "    num_x = string.count('x')\n",
    "    num_o = string.count('o')\n",
    "    if num_x == num_o:\n",
    "        return True\n",
    "    return False\n",
    "\n",
    "print (XO('ooxx'))\n",
    "print (XO('ooxxo'))\n",
    "print (XO('ooxxXO'))"
   ]
  },
  {
   "cell_type": "code",
   "execution_count": 75,
   "metadata": {},
   "outputs": [
    {
     "name": "stdout",
     "output_type": "stream",
     "text": [
      "True\n",
      "True\n",
      "False\n"
     ]
    }
   ],
   "source": [
    "#7\n",
    "\n",
    "def validate_pin(string):\n",
    "    separated = [char for char in string]\n",
    "\n",
    "    # check if there are any non-digits\n",
    "    for char in separated:\n",
    "        \n",
    "        if char not in ['1','2','3','4','5','6','7','8','9','0']:\n",
    "            return False\n",
    "\n",
    "    if len(string) in [4, 6]:\n",
    "        return True\n",
    "    \n",
    "    return False\n",
    "\n",
    "print(validate_pin('1234'))\n",
    "print(validate_pin('123456'))\n",
    "print(validate_pin('a234'))"
   ]
  },
  {
   "cell_type": "code",
   "execution_count": 76,
   "metadata": {},
   "outputs": [
    {
     "name": "stdout",
     "output_type": "stream",
     "text": [
      "of\n"
     ]
    }
   ],
   "source": [
    "#8\n",
    "\n",
    "sentence = 'The mountains are alive with the sound of music'\n",
    "\n",
    "def return_shortest(string):\n",
    "\n",
    "    separated = string.split(' ')   # separated into words\n",
    "\n",
    "    pairs = [(index, len(word)) for index, word in enumerate(separated)]    # tuple = (index, length)\n",
    "\n",
    "    counts = [pair[1] for pair in pairs]    # list of word lengths\n",
    "    min_count = min(counts)                 # find minimum word length\n",
    "\n",
    "    for pair in pairs:                      # find index of shortest word\n",
    "        if pair[1] == min_count:\n",
    "            return separated [pair[0]]      # return word\n",
    "    \n",
    "\n",
    "print (return_shortest(sentence))"
   ]
  },
  {
   "cell_type": "code",
   "execution_count": 10,
   "metadata": {},
   "outputs": [
    {
     "name": "stdout",
     "output_type": "stream",
     "text": [
      "['a', 'b', 'c', 'd', 'e', 'f']\n",
      "['O', 'P', 'Q', 'R', 'S']\n"
     ]
    }
   ],
   "source": [
    "#9\n",
    "\n",
    "# print (ord('a'))\n",
    "# print (ord('b'))\n",
    "# print (ord('A'))\n",
    "# print (ord('B'))\n",
    "\n",
    "\n",
    "# print(chr(97))\n",
    "# print(chr(98))\n",
    "# print(chr(65))\n",
    "# print(chr(66))\n",
    "\n",
    "\n",
    "\n",
    "\n",
    "\n",
    "def complete_the_list(input_list):\n",
    "    \n",
    "    ascii = [ord(letter) for letter in input_list] # convert letters into numbers\n",
    "    start = min(ascii)                       # define smallest number\n",
    "    end = max(ascii)                         # define biggest\n",
    "    full_ascii = list(range(start, end+1))   # list of numbers increasing stepwise\n",
    "    full_letters = [chr(item) for item in full_ascii]   # convert back into letters\n",
    "\n",
    "    return full_letters\n",
    "\n",
    "print (complete_the_list(['a', 'b', 'c', 'd', 'f']))\n",
    "print (complete_the_list(['O', 'Q', 'R', 'S']))"
   ]
  },
  {
   "cell_type": "code",
   "execution_count": 2,
   "metadata": {},
   "outputs": [],
   "source": [
    "#reset"
   ]
  },
  {
   "cell_type": "code",
   "execution_count": 84,
   "metadata": {},
   "outputs": [
    {
     "name": "stdout",
     "output_type": "stream",
     "text": [
      "['Ryan', 'Yous']\n"
     ]
    }
   ],
   "source": [
    "#10\n",
    "\n",
    "def filter_friend(list):\n",
    "    names = [name for name in list if len(name) == 4]\n",
    "    return names\n",
    "\n",
    "print (filter_friend(['Ryan', 'Kieran', 'Jason', 'Yous']))"
   ]
  }
 ],
 "metadata": {
  "interpreter": {
   "hash": "40d3a090f54c6569ab1632332b64b2c03c39dcf918b08424e98f38b5ae0af88f"
  },
  "kernelspec": {
   "display_name": "Python 3.9.7 ('base')",
   "language": "python",
   "name": "python3"
  },
  "language_info": {
   "codemirror_mode": {
    "name": "ipython",
    "version": 3
   },
   "file_extension": ".py",
   "mimetype": "text/x-python",
   "name": "python",
   "nbconvert_exporter": "python",
   "pygments_lexer": "ipython3",
   "version": "3.9.7"
  },
  "orig_nbformat": 4
 },
 "nbformat": 4,
 "nbformat_minor": 2
}
