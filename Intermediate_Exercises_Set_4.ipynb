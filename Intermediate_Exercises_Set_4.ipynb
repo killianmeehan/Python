{
 "cells": [
  {
   "cell_type": "code",
   "execution_count": 3,
   "metadata": {},
   "outputs": [
    {
     "name": "stdout",
     "output_type": "stream",
     "text": [
      "26\n",
      "10\n"
     ]
    }
   ],
   "source": [
    "#1\n",
    "\n",
    "def number_of_years(population, percent, newcomers, target):\n",
    "    num_years = 0\n",
    "    total_pop = [population]\n",
    "    \n",
    "    while True:\n",
    "        pop_after_year = total_pop[-1] + total_pop[-1] * (percent*0.01) + newcomers\n",
    "        if pop_after_year >= target:\n",
    "            return len(total_pop)\n",
    "        total_pop.append(pop_after_year)\n",
    "\n",
    "\n",
    "print (number_of_years(1500, 5, 100, 10000))\n",
    "print(number_of_years (1500000, 2.5, 10000,2000000))"
   ]
  },
  {
   "cell_type": "code",
   "execution_count": 1,
   "metadata": {},
   "outputs": [
    {
     "name": "stderr",
     "output_type": "stream",
     "text": [
      "[nltk_data] Downloading package words to\n",
      "[nltk_data]     C:\\Users\\Killian\\AppData\\Roaming\\nltk_data...\n",
      "[nltk_data]   Package words is already up-to-date!\n"
     ]
    }
   ],
   "source": [
    "#2\n",
    "import nltk\n",
    "nltk.download('words')\n",
    "english_vocab = set(w.lower() for w in nltk.corpus.words.words())"
   ]
  },
  {
   "cell_type": "code",
   "execution_count": 6,
   "metadata": {},
   "outputs": [
    {
     "name": "stdout",
     "output_type": "stream",
     "text": [
      "Process finished --- 0.0 seconds ---\n"
     ]
    }
   ],
   "source": [
    "#2 continued\n",
    "\n",
    "import time\n",
    "start_time = time.time()\n",
    "\n",
    "def max_match(in_str):\n",
    "    in_str = in_str.lower()\n",
    "    storage_list = []\n",
    "    word = in_str       # duplicate input string, just in case we want the original input string later.\n",
    "\n",
    "\n",
    "    while len(word)>0:\n",
    "        for i in range (len(word), 0, -1):              # check the entire string first; then with each iteration, remove one letter from the right.\n",
    "            if word[:i] in english_vocab:\n",
    "                \n",
    "                storage_list.append(word[:i])           # if we find a word, then add it to \"storage_list\"\n",
    "                word = word[i:]                         # chop off the word from the string\n",
    "                break                                   # break the for loop, so the \"i\" can start from an updated len(word)\n",
    "    \n",
    "    return storage_list\n",
    "\n",
    "\n",
    "# print(max_match('jovialumbrellasaturncrumble'))\n",
    "# print(max_match('extraneousceilingomnibuscrematorium'))\n",
    "\n",
    "max_match('despite')\n",
    "\n",
    "print(\"Process finished --- %s seconds ---\" % (time.time() - start_time)) "
   ]
  },
  {
   "cell_type": "code",
   "execution_count": 7,
   "metadata": {},
   "outputs": [
    {
     "name": "stdout",
     "output_type": "stream",
     "text": [
      "True\n",
      "False\n"
     ]
    }
   ],
   "source": [
    "#3\n",
    "\n",
    "def circ_sort(array):\n",
    "    \n",
    "\n",
    "    new_array = [(array[i+1]>array[i]) for i in range(len(array)-1)] \n",
    "    if len(new_array) - sum(new_array) > 1:\n",
    "        return False\n",
    "    return True\n",
    "\n",
    "print(circ_sort([2, 3, 4, 5, 0, 1]))\n",
    "print(circ_sort([8, 7, 6, 5, 4, 3]))"
   ]
  },
  {
   "cell_type": "code",
   "execution_count": 8,
   "metadata": {},
   "outputs": [
    {
     "name": "stdout",
     "output_type": "stream",
     "text": [
      "YES\n",
      "NO\n",
      "NO\n"
     ]
    }
   ],
   "source": [
    "#4\n",
    "\n",
    "def tickets(buyers):\n",
    "\n",
    "\n",
    "    ticket_price = 25\n",
    "    current_pot = {25:0, 50:0, 100:0}\n",
    "\n",
    "    for bill in buyers: \n",
    "        if bill == 25:                  # no change necessary\n",
    "            current_pot[25] += 1   \n",
    "\n",
    "        elif bill == 50:                # change of 25 necessary\n",
    "            if current_pot[25] >= 1:\n",
    "                current_pot[50] += 1\n",
    "                current_pot[25] -=1\n",
    "            else:\n",
    "                return 'NO'\n",
    "\n",
    "        \n",
    "        elif bill == 100:               # change of 75 necessary\n",
    "            if current_pot[50] >= 1 and current_pot[25] >=1:      # we want to use up our 50s first. 25s are more flexible and thus more valuable.\n",
    "                current_pot[100] += 1\n",
    "                current_pot[50] -= 1\n",
    "                current_pot[25] -= 2\n",
    "            elif current_pot[25]>= 3:\n",
    "                current_pot[100] += 1\n",
    "                current_pot[25] -= 3\n",
    "            else:\n",
    "                return 'NO'\n",
    "    return 'YES'\n",
    "\n",
    "\n",
    "print (tickets([25, 25, 50]))\n",
    "print (tickets([25, 100]))\n",
    "print (tickets([25, 25, 50, 50, 100]))\n",
    "    \n",
    "    \n",
    "\n",
    "\n",
    "\n"
   ]
  },
  {
   "cell_type": "code",
   "execution_count": 9,
   "metadata": {},
   "outputs": [
    {
     "name": "stdout",
     "output_type": "stream",
     "text": [
      "i,ekil,siht,margorp,yrev,hcum\n"
     ]
    }
   ],
   "source": [
    "#5\n",
    "\n",
    "def reverse(input):\n",
    "    \n",
    "    input = input.split(',')\n",
    "    input_rev = [word[-1::-1] for word in input]\n",
    "    result = ','.join(input_rev)\n",
    "    return result\n",
    "\n",
    "print(reverse('i,like,this,program,very,much'))\n"
   ]
  },
  {
   "cell_type": "code",
   "execution_count": 10,
   "metadata": {},
   "outputs": [
    {
     "name": "stdout",
     "output_type": "stream",
     "text": [
      "2\n",
      "4\n",
      "0\n"
     ]
    }
   ],
   "source": [
    "#6\n",
    "\n",
    "\n",
    "def number_of_digits(num):\n",
    "    ### function that outputs the number of digits in the input number\n",
    "    ### e.g. number_of_digits(234) –> 24 (2 * 3 * 4)\n",
    "\n",
    "    num_dig = 1\n",
    "    while True:\n",
    "        if num  < 10:\n",
    "            return num_dig\n",
    "        num = num / 10\n",
    "        num_dig += 1\n",
    "\n",
    "\n",
    "\n",
    "def multiply_digits(num):\n",
    "    ### function that multiplies the input number's individual digits\n",
    "    ### e.g. multiply_digits(123) = 1 * 2 * 3\n",
    "    \n",
    "    num = str(num)                          # convert input into string\n",
    "    num = [int(char) for char in num]       # separate the digits in a list\n",
    "\n",
    "    res = 1                                 # loop over the list, multiply each time.\n",
    "    for x in num:\n",
    "        res *= x\n",
    "    return res\n",
    "\n",
    "\n",
    "def persistence(num):\n",
    "    \n",
    "    count = 0                               # 'count' keeps track of how many times you multiply the digits in num\n",
    "    while True:\n",
    "        num_dig = number_of_digits(num)     # check the number of digits\n",
    "        if num_dig == 1:                    # if number of digits = 1, break the while loop and return 'count'\n",
    "            return count\n",
    "        num = multiply_digits(num)          # if number of digits != 1, multiply the digits \n",
    "        count += 1\n",
    "\n",
    "print(persistence(38))\n",
    "print(persistence(999))\n",
    "print(persistence(4))\n"
   ]
  },
  {
   "cell_type": "code",
   "execution_count": 15,
   "metadata": {},
   "outputs": [
    {
     "name": "stdout",
     "output_type": "stream",
     "text": [
      "63.0 euros\n",
      "Won't make it!\n"
     ]
    }
   ],
   "source": [
    "#7\n",
    "\n",
    "\n",
    "def calculate_optimal_fare(distance_target, time_avail, speed_taxi, price_rate, speed_walk):\n",
    "\n",
    "    # ***** OVERVIEW OF INPUTS *****\n",
    "    # distance_target = how much distance we need to cover (in km)\n",
    "    # time_avail = total time available (in minutes)\n",
    "    # speed_taxi = speed of taxi in km/h\n",
    "    # price_rate = price of taxi in euros/km\n",
    "    # speed_walk = speed of walking in km/h\n",
    "\n",
    "\n",
    "    # The aim is to minimise the total taxi price (i.e. minimise distance covered by taxi)\n",
    "\n",
    "    time_avail = time_avail / 60                     # convert from minutes into hours\n",
    "    distance_taxi = 0                                # Initialise \"distance_taxi\"; want it to stay as close to 0 as possible\n",
    "    interval = 0.1                               # Will increase \"distance_taxi\" iteratively by interval\n",
    "\n",
    "    while True:\n",
    "        if distance_taxi > distance_target:          # Break loop if we won't make it even when taking the taxi the whole journey.\n",
    "            return \"Won't make it!\"\n",
    "        \n",
    "        distance_walk = distance_target - distance_taxi     # We will gradually decrease the distance we walk (by gradually increasing the distance we cover by taxi)\n",
    "\n",
    "        time_walk = distance_walk / speed_walk\n",
    "        time_taxi = distance_taxi / speed_taxi\n",
    "\n",
    "        time_total = time_walk + time_taxi\n",
    "\n",
    "        price_total = round((distance_taxi * price_rate),2)\n",
    "\n",
    "        if time_total < time_avail:                     # See if total time elapsed is less than the available time. \n",
    "            return f'{price_total} euros'\n",
    "        \n",
    "        distance_taxi += interval                      # If not, increase distance_taxi by a tiny interval.  \n",
    "        \n",
    "\n",
    "\n",
    "print(calculate_optimal_fare(10, 50, 30, 10, 6))\n",
    "print(calculate_optimal_fare(30, 50, 30, 10, 6))\n",
    "\n"
   ]
  }
 ],
 "metadata": {
  "interpreter": {
   "hash": "ad2bdc8ecc057115af97d19610ffacc2b4e99fae6737bb82f5d7fb13d2f2c186"
  },
  "kernelspec": {
   "display_name": "Python 3.8.8 ('base')",
   "language": "python",
   "name": "python3"
  },
  "language_info": {
   "codemirror_mode": {
    "name": "ipython",
    "version": 3
   },
   "file_extension": ".py",
   "mimetype": "text/x-python",
   "name": "python",
   "nbconvert_exporter": "python",
   "pygments_lexer": "ipython3",
   "version": "3.8.8"
  },
  "orig_nbformat": 4
 },
 "nbformat": 4,
 "nbformat_minor": 2
}
