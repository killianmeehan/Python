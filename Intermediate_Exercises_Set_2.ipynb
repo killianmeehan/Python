{
 "cells": [
  {
   "cell_type": "code",
   "execution_count": 6,
   "metadata": {},
   "outputs": [
    {
     "name": "stdout",
     "output_type": "stream",
     "text": [
      "[('a', 5), ('b', 2), ('r', 2), ('c', 1), ('d', 1)]\n"
     ]
    }
   ],
   "source": [
    "# #1\n",
    "\n",
    "def ordered_count(string):\n",
    "    counting_dict = {}\n",
    "    for char in string:\n",
    "        if char not in counting_dict:\n",
    "            counting_dict[char] = 1\n",
    "        else:\n",
    "            counting_dict[char] += 1\n",
    "\n",
    "    # list_of_tuples = []\n",
    "    # for key, value in counting_dict.items():\n",
    "    #     list_of_tuples.append((key, value))\n",
    "    # return list_of_tuples\n",
    "\n",
    "    list_of_tuples = [(key, value) for key, value in counting_dict.items()]\n",
    "    return list_of_tuples\n",
    "\n",
    "print (ordered_count('abracadabra'))"
   ]
  },
  {
   "cell_type": "code",
   "execution_count": 19,
   "metadata": {},
   "outputs": [
    {
     "name": "stdout",
     "output_type": "stream",
     "text": [
      "(153, True)\n",
      "(1379, False)\n",
      "(1634, True)\n"
     ]
    }
   ],
   "source": [
    "#2 \n",
    "\n",
    "def narc_num (num):\n",
    "    num_str = str(num) # convert number into string\n",
    "    num_list = [int(char) for char in num_str] # separate digits into list\n",
    "    power = len (num_list)\n",
    "    result = sum ([int ** power for int in num_list])\n",
    "\n",
    "    if result == num: \n",
    "        return result, True\n",
    "    return result, False \n",
    "\n",
    "print (narc_num(153))\n",
    "print (narc_num(1634))\n",
    "\n",
    "\n",
    "# num = 123\n",
    "# num_str = str(num)\n",
    "# list = [int(char) for char in num_str]\n",
    "# power = len(list)\n",
    "# print(list)\n",
    "# print(power)\n",
    "# result = sum([int **power for int in list])\n",
    "# print(result)"
   ]
  },
  {
   "cell_type": "code",
   "execution_count": 23,
   "metadata": {},
   "outputs": [
    {
     "name": "stdout",
     "output_type": "stream",
     "text": [
      "True\n",
      "False\n"
     ]
    }
   ],
   "source": [
    "#3 \n",
    "\n",
    "def pangram(string):\n",
    "    string.lower()\n",
    "    alphabet = 'abcdefghijklmnopqrstuvwxyz'\n",
    "    unused = [char for char in alphabet if char not in string]\n",
    "    if unused:\n",
    "        return False\n",
    "    return True\n",
    "\n",
    "sentence1 = 'The quick brown fox jumps over the lazy dog'\n",
    "print(pangram(sentence1))"
   ]
  },
  {
   "cell_type": "code",
   "execution_count": 25,
   "metadata": {},
   "outputs": [
    {
     "name": "stdout",
     "output_type": "stream",
     "text": [
      "False\n",
      "True\n"
     ]
    }
   ],
   "source": [
    "#4\n",
    "\n",
    "def cartesia (directions):\n",
    "    num_n = directions.count('n')\n",
    "    num_s = directions.count('s')\n",
    "    num_w = directions.count('w')\n",
    "    num_e = directions.count('e')\n",
    "\n",
    "    if num_n == num_s and num_w == num_e:\n",
    "        return True\n",
    "    return False\n",
    "\n",
    "print (cartesia(['n', 'e', 'e', 'n', 'e', 'w', 'n', 'n', 's', 'e']))\n",
    "print (cartesia(['s', 'e', 'w', 'n', 'n', 's', 'e', 'w', 'n', 's']))"
   ]
  }
 ],
 "metadata": {
  "interpreter": {
   "hash": "40d3a090f54c6569ab1632332b64b2c03c39dcf918b08424e98f38b5ae0af88f"
  },
  "kernelspec": {
   "display_name": "Python 3.9.7 ('base')",
   "language": "python",
   "name": "python3"
  },
  "language_info": {
   "codemirror_mode": {
    "name": "ipython",
    "version": 3
   },
   "file_extension": ".py",
   "mimetype": "text/x-python",
   "name": "python",
   "nbconvert_exporter": "python",
   "pygments_lexer": "ipython3",
   "version": "3.9.7"
  },
  "orig_nbformat": 4
 },
 "nbformat": 4,
 "nbformat_minor": 2
}
