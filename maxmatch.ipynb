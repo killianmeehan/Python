{
 "cells": [
  {
   "cell_type": "code",
   "execution_count": 1,
   "metadata": {},
   "outputs": [
    {
     "name": "stdout",
     "output_type": "stream",
     "text": [
      "\n"
     ]
    }
   ],
   "source": [
    "import random\n",
    "import nltk\n",
    "#nltk.download('words')\n",
    "english_vocab = set(w.lower() for w in nltk.corpus.words.words())\n",
    "\n",
    "def empty_string():\n",
    "    test.assert_equals(max_match(\"\"), [])\n",
    "\n",
    "def ranu89y():\n",
    "    def mmu6(st):\n",
    "        for i in range(len(st),0,-1):        \n",
    "            if i == 1 or st[:i] in english_vocab:\n",
    "                return [st[:i]] + mmu6(st[i:])\n",
    "        return []\n",
    "\n",
    "    def random_sentences_of_valid_words():\n",
    "        v_size = len(english_vocab)\n",
    "        v_words = list(english_vocab)\n",
    "        for _ in range(0,100):\n",
    "            length, s = random.randrange(1,8), ''\n",
    "            r = random.randrange(0,len(sentences))\n",
    "            for j in range(0,length):\n",
    "                s += v_words[random.randrange(0,v_size)]\n",
    "            exp = mmu6(s)\n",
    "            test.assert_equals(max_match(s), exp, \"input was \\\"\" + s + \"\\\"\")\n",
    "ranu89y()\n",
    "print()"
   ]
  }
 ],
 "metadata": {
  "interpreter": {
   "hash": "ad2bdc8ecc057115af97d19610ffacc2b4e99fae6737bb82f5d7fb13d2f2c186"
  },
  "kernelspec": {
   "display_name": "Python 3.8.8 ('base')",
   "language": "python",
   "name": "python3"
  },
  "language_info": {
   "codemirror_mode": {
    "name": "ipython",
    "version": 3
   },
   "file_extension": ".py",
   "mimetype": "text/x-python",
   "name": "python",
   "nbconvert_exporter": "python",
   "pygments_lexer": "ipython3",
   "version": "3.8.8"
  },
  "orig_nbformat": 4
 },
 "nbformat": 4,
 "nbformat_minor": 2
}
