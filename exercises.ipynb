{
 "cells": [
  {
   "cell_type": "code",
   "execution_count": 4,
   "metadata": {},
   "outputs": [
    {
     "name": "stdout",
     "output_type": "stream",
     "text": [
      "Killian\n"
     ]
    }
   ],
   "source": [
    "my_name = \"Killian\"\n",
    "print(my_name)"
   ]
  },
  {
   "cell_type": "code",
   "execution_count": 3,
   "metadata": {},
   "outputs": [
    {
     "name": "stdout",
     "output_type": "stream",
     "text": [
      "34\n"
     ]
    }
   ],
   "source": [
    "my_age = 34\n",
    "print(my_age)"
   ]
  },
  {
   "cell_type": "code",
   "execution_count": 5,
   "metadata": {},
   "outputs": [
    {
     "name": "stdout",
     "output_type": "stream",
     "text": [
      "2\n"
     ]
    }
   ],
   "source": [
    "julia_age = 32\n",
    "age_diff = my_age - julia_age\n",
    "print(age_diff)"
   ]
  },
  {
   "cell_type": "code",
   "execution_count": 6,
   "metadata": {},
   "outputs": [
    {
     "name": "stdout",
     "output_type": "stream",
     "text": [
      "You are older than 21\n"
     ]
    }
   ],
   "source": [
    "if my_age > 21:\n",
    "    print(\"You are older than 21\")\n",
    "else: \n",
    "    print(\"you are not older than 21\")"
   ]
  },
  {
   "cell_type": "code",
   "execution_count": null,
   "metadata": {},
   "outputs": [],
   "source": [
    "if julia_age == my_age:\n",
    "    x = \"the same age as\"\n",
    "elif julia_age > my_age:\n",
    "        x = \"older than\"\n",
    "else: x = \"younger than\"\n",
    "print (\"Julia is \" + x + \" you\")"
   ]
  },
  {
   "cell_type": "code",
   "execution_count": 1,
   "metadata": {},
   "outputs": [
    {
     "name": "stdout",
     "output_type": "stream",
     "text": [
      "Jacopo\n",
      "Virginia\n",
      "Jacopo\n",
      "Killian\n",
      "Ottavia\n",
      "Sarah\n",
      "Virginia\n"
     ]
    }
   ],
   "source": [
    "class_names=[\"Killian\", \"Jacopo\", \"Sarah\", \"Ottavia\", \"Virginia\"]\n",
    "class_names.sort()\n",
    "print(class_names [0])\n",
    "print(class_names [-1])\n",
    "for names in class_names:\n",
    "    print(names)"
   ]
  },
  {
   "cell_type": "code",
   "execution_count": null,
   "metadata": {},
   "outputs": [],
   "source": [
    "class_ages=[20, 30, 22, 43, 12]\n",
    "for age in class_ages:\n",
    "    print (age)\n",
    "for age in class_ages:\n",
    "    if age % 2 == 0:\n",
    "         print(age, end = \" \")\n"
   ]
  },
  {
   "cell_type": "code",
   "execution_count": null,
   "metadata": {},
   "outputs": [],
   "source": [
    "def welcome(Name):\n",
    "    print(\"Welcome \" + Name + \", have a nice day!\")\n",
    "\n",
    "welcome('Jost')"
   ]
  },
  {
   "cell_type": "code",
   "execution_count": null,
   "metadata": {},
   "outputs": [],
   "source": [
    "def get_length(word):\n",
    "    print(len(word))\n",
    "get_length('Hello')"
   ]
  },
  {
   "cell_type": "code",
   "execution_count": null,
   "metadata": {},
   "outputs": [],
   "source": [
    "def check_even(number):\n",
    "    if number % 2 == 0:\n",
    "        print(\"Yes\")\n",
    "    else:\n",
    "        print(\"No\") \n",
    "check_even(5)"
   ]
  },
  {
   "cell_type": "code",
   "execution_count": null,
   "metadata": {},
   "outputs": [],
   "source": [
    "numbers_list = [3, 25, 6, 698, 4, 75, 33]\n",
    "print(\"Lowest number is\", min(numbers_list))\n",
    "print(\"Highest number is\", max(numbers_list))\n"
   ]
  },
  {
   "cell_type": "code",
   "execution_count": null,
   "metadata": {},
   "outputs": [],
   "source": [
    "customer_dob = [1999, 1995, 2005, 2010, 2007, 2006, 1994, 1996, 1979, 2008]\n",
    "for year in customer_dob:\n",
    "    print(year)"
   ]
  },
  {
   "cell_type": "code",
   "execution_count": null,
   "metadata": {},
   "outputs": [],
   "source": [
    "customer_list = {\"name\": \"Bob\", \"age\": 1999,\"name\": \"Jack\", \"age\": 1995,\"name\": \"Lisa\", \"age\": 2005,\"name\": \"Maria\", \"age\": 2010,\"name\": \"Ben\", \"age\": 2007,\"name\": \"Emma\", \"age\": 2006}\n",
    "\n",
    "#print (li[\"name\"] for li in customer_list)\n",
    "#customer_name = \"name\"\n",
    "#customer_age = \"age\"\n",
    "#customer_output = [dict[customer_name] for dict in customer_list]\n",
    "#print(customer_output)\n",
    "#customer_name = customer_list[\"name\"]\n",
    "#customer_age = customer_list[\"age\"]\n",
    "#customer_name = customer_list.get(\"name\")\n",
    "for x in customer_list:\n",
    "    print(x) \n",
    "#ok, can't do it because original is list of dictionaries, not a dictionary itself...\n",
    "for x, y in customer_list.items():\n",
    "  print(x, y)\n"
   ]
  },
  {
   "cell_type": "code",
   "execution_count": null,
   "metadata": {},
   "outputs": [],
   "source": [
    "ages = [20, 24, 14, 9, 12, 13, 25, 23, 40, 11]\n",
    "ages.sort()\n",
    "middle_ages = ages[1:-1]\n",
    "print(middle_ages)\n",
    "str(ages)[1:-1]"
   ]
  },
  {
   "cell_type": "code",
   "execution_count": 288,
   "metadata": {},
   "outputs": [
    {
     "data": {
      "text/plain": [
       "{12, 13, 16, 19}"
      ]
     },
     "execution_count": 288,
     "metadata": {},
     "output_type": "execute_result"
    }
   ],
   "source": [
    "def common_age(a, b):\n",
    "    return set(a).intersection(b)\n",
    "    \n",
    "berlin = [15, 13, 16, 18, 19, 10, 12 ]\n",
    "munich = [7, 13, 15, 20, 19, 18, 10, 16]\n",
    "leipzig = [1, 13, 16, 0, 19, 2, 12 ]\n",
    "dresden = [5, 13, 15, 8, 19, 18, 6, 16]\n",
    "common_age(leipzig, berlin)"
   ]
  },
  {
   "cell_type": "code",
   "execution_count": 287,
   "metadata": {},
   "outputs": [
    {
     "data": {
      "text/plain": [
       "[10, 13, 15, 16, 18, 19]"
      ]
     },
     "execution_count": 287,
     "metadata": {},
     "output_type": "execute_result"
    }
   ],
   "source": [
    "ages_list = [15,13,16,18,19,15,10]\n",
    "list(set(ages_list))"
   ]
  },
  {
   "cell_type": "code",
   "execution_count": null,
   "metadata": {},
   "outputs": [],
   "source": [
    "cust_year = [1999, 1995, 2005, 2010, 2007, 2006, 1994, 1996, 1979, 2008]\n",
    "print(*cust_year)\n",
    "#print (str(cust_year)[1:-1]) is a messy way of removing the brackets as they are first and last element when converted to concatented string.\n",
    "print (str(cust_year))\n",
    "#List comprehension! Use join to concatenate strings. Separate wih a space. Apply to each element.\n",
    "' '.join(str(e) for e in cust_year)\n"
   ]
  },
  {
   "cell_type": "code",
   "execution_count": 286,
   "metadata": {},
   "outputs": [
    {
     "data": {
      "text/plain": [
       "True"
      ]
     },
     "execution_count": 286,
     "metadata": {},
     "output_type": "execute_result"
    }
   ],
   "source": [
    "lst = []\n",
    "\n",
    "n = int(input(\"Enter number of elements: \"))\n",
    "\n",
    "for i in range(0, n):\n",
    "    ele = int(input(\"Enter a number: \"))\n",
    "    lst.append(ele)\n",
    "  \n",
    "check_num = int(input(\"Enter number to check if it is on the list: \"))\n",
    "\n",
    "check_num in lst"
   ]
  },
  {
   "cell_type": "code",
   "execution_count": 7,
   "metadata": {},
   "outputs": [
    {
     "ename": "ValueError",
     "evalue": "{'name': 'Bob', 'age': 1999} is not in list",
     "output_type": "error",
     "traceback": [
      "\u001b[1;31m---------------------------------------------------------------------------\u001b[0m",
      "\u001b[1;31mValueError\u001b[0m                                Traceback (most recent call last)",
      "\u001b[1;32m<ipython-input-7-68363874cf75>\u001b[0m in \u001b[0;36m<module>\u001b[1;34m\u001b[0m\n\u001b[0;32m     30\u001b[0m \u001b[0mcustomer_dict\u001b[0m \u001b[1;33m=\u001b[0m \u001b[1;33m{\u001b[0m\u001b[1;33m}\u001b[0m\u001b[1;33m\u001b[0m\u001b[1;33m\u001b[0m\u001b[0m\n\u001b[0;32m     31\u001b[0m \u001b[1;32mfor\u001b[0m \u001b[0melem\u001b[0m \u001b[1;32min\u001b[0m \u001b[0mcustomer_list_2\u001b[0m\u001b[1;33m:\u001b[0m\u001b[1;33m\u001b[0m\u001b[1;33m\u001b[0m\u001b[0m\n\u001b[1;32m---> 32\u001b[1;33m     \u001b[0mcustomer_dict\u001b[0m\u001b[1;33m[\u001b[0m\u001b[0melem\u001b[0m\u001b[1;33m]\u001b[0m \u001b[1;33m=\u001b[0m \u001b[0mcustomer_age_list\u001b[0m\u001b[1;33m.\u001b[0m\u001b[0mindex\u001b[0m\u001b[1;33m(\u001b[0m\u001b[0melem\u001b[0m\u001b[1;33m)\u001b[0m\u001b[1;33m\u001b[0m\u001b[1;33m\u001b[0m\u001b[0m\n\u001b[0m\u001b[0;32m     33\u001b[0m \u001b[1;33m\u001b[0m\u001b[0m\n\u001b[0;32m     34\u001b[0m \u001b[1;31m#legal_customer_list = []\u001b[0m\u001b[1;33m\u001b[0m\u001b[1;33m\u001b[0m\u001b[1;33m\u001b[0m\u001b[0m\n",
      "\u001b[1;31mValueError\u001b[0m: {'name': 'Bob', 'age': 1999} is not in list"
     ]
    }
   ],
   "source": [
    "\n",
    "from datetime import datetime\n",
    "#determine current year so the check updates when run\n",
    "current_year = datetime.now().year\n",
    "\n",
    "customer_list_2 = [\n",
    "    {\"name\": \"Bob\", \"age\": 1999},\n",
    "    {\"name\": \"Jack\", \"age\": 1995},\n",
    "    {\"name\": \"Lisa\", \"age\": 2005},\n",
    "    {\"name\": \"Maria\", \"age\": 2010},\n",
    "    {\"name\": \"Ben\", \"age\": 2007},\n",
    "    {\"name\": \"Emma\", \"age\": 2006},\n",
    "    {\"name\": \"Oscar\", \"age\": 1994},\n",
    "    {\"name\": \"Amy\", \"age\": 1996},\n",
    "    {\"name\": \"Paul\", \"age\": 1979},\n",
    "    {\"name\": \"Etta\", \"age\": 2008}\n",
    "]\n",
    "\n",
    "#create a list of customer years of birth from the list of dictionaries above\n",
    "customer_year = []\n",
    "for customer in customer_list_2:\n",
    "    customer_year.append(customer[\"age\"])\n",
    "\n",
    "#create a list of customer ages by subtracting year of birth from current year\n",
    "customer_age_list = []\n",
    "for year in customer_year:\n",
    "    customer_age = current_year - year\n",
    "    customer_age_list.append(customer_age)\n",
    "\n",
    "#check for, and print, the list of customers currently 18 or older\n",
    "customer_dict = {}\n",
    "for elem in customer_list_2:\n",
    "    customer_dict[elem] = customer_age_list.index(elem)\n",
    "\n",
    "#legal_customer_list = []\n",
    "#for age in customer_age_list:\n",
    "#    if age >= 18:\n",
    "#        legal_customer_list.append(customer[\"name\"])\n",
    "#print(legal_customer_list)"
   ]
  },
  {
   "cell_type": "code",
   "execution_count": 1,
   "metadata": {},
   "outputs": [
    {
     "data": {
      "text/plain": [
       "6"
      ]
     },
     "execution_count": 1,
     "metadata": {},
     "output_type": "execute_result"
    }
   ],
   "source": [
    "word = 'banana'\n",
    "len(word)"
   ]
  },
  {
   "cell_type": "code",
   "execution_count": 8,
   "metadata": {},
   "outputs": [
    {
     "ename": "SyntaxError",
     "evalue": "invalid syntax (<ipython-input-8-0d20f6ea656a>, line 26)",
     "output_type": "error",
     "traceback": [
      "\u001b[1;36m  File \u001b[1;32m\"<ipython-input-8-0d20f6ea656a>\"\u001b[1;36m, line \u001b[1;32m26\u001b[0m\n\u001b[1;33m    print '\\n'.join(d['Name'] for d in thisismylist)\u001b[0m\n\u001b[1;37m          ^\u001b[0m\n\u001b[1;31mSyntaxError\u001b[0m\u001b[1;31m:\u001b[0m invalid syntax\n"
     ]
    }
   ],
   "source": [
    "from datetime import datetime\n",
    "#determine current year so the check updates when run\n",
    "current_year = datetime.now().year\n",
    "\n",
    "customer_list_2 = [\n",
    "    {\"name\": \"Bob\", \"age\": 1999},\n",
    "    {\"name\": \"Jack\", \"age\": 1995},\n",
    "    {\"name\": \"Lisa\", \"age\": 2005},\n",
    "    {\"name\": \"Maria\", \"age\": 2010},\n",
    "    {\"name\": \"Ben\", \"age\": 2007},\n",
    "    {\"name\": \"Emma\", \"age\": 2006},\n",
    "    {\"name\": \"Oscar\", \"age\": 1994},\n",
    "    {\"name\": \"Amy\", \"age\": 1996},\n",
    "    {\"name\": \"Paul\", \"age\": 1979},\n",
    "    {\"name\": \"Etta\", \"age\": 2008}\n",
    "]\n",
    "\n",
    "#create a list of customer years of birth from the list of dictionaries above\n",
    "#customer_year = []\n",
    "#for customer in customer_list_2:\n",
    "#    customer_year.append(customer[\"age\"])\n",
    "\n",
    "{d['name']:d['Age'] for d in customer_list_2}\n",
    "{'Johnny': 13, 'Albert': 16, 'Suzy': 17}\n",
    "\n",
    "print '\\n'.join(d['Name'] for d in thisismylist)\n",
    "\n",
    "for name, age in sorted([(d['Name'],d['Age']) for d in thisismylist],key=lambda t:t[1]):\n",
    "    print '{}: {}'.format(name,age)\n",
    "\n",
    "#create a list of positions in customer_list_2 of customers who are \"old enough\" by subtracting year of birth from current year\n",
    "def calculate_age(customer_year):\n",
    "    list1 = []\n",
    "    for customer in customer_year:\n",
    "       list1.append(current_year-customer)\n",
    "    return list1\n",
    "\n",
    "#check for, and print, the list of customers currently 18 or older\n",
    "def \n",
    "customer_dict = {}\n",
    "for elem in customer_list_2:\n",
    "    customer_dict[elem] = customer_age_list.index(elem)\n",
    "\n",
    "#legal_customer_list = []\n",
    "#for age in customer_age_list:\n",
    "#    if age >= 18:\n",
    "#        legal_customer_list.append(customer[\"name\"])\n",
    "#print(legal_customer_list)"
   ]
  },
  {
   "cell_type": "code",
   "execution_count": null,
   "metadata": {},
   "outputs": [],
   "source": [
    "my_array = [2, 4, 6, 8, 10, 3]\n",
    "only_odd = [num for num in my_array if num % 2 ==1]\n",
    "if len(only_odd) == 1:\n",
    "    print(only_odd)\n",
    "else: \n",
    "    print(set(my_array) - set(only_odd))"
   ]
  },
  {
   "cell_type": "code",
   "execution_count": null,
   "metadata": {},
   "outputs": [],
   "source": [
    "numbers = [1, 2, 3, 4, 5]\n",
    "def split_even_odd(numbers):\n",
    "    odd_numbers = [number for number in numbers if number % 2 ==1]\n",
    "    even_numbers = [number for number in numbers if number % 2 == 0]\n",
    "    if len(odd_numbers) == 1:\n",
    "        return(odd_numbers)\n",
    "    elif len(even_numbers) == 1:\n",
    "        return even_numbers\n",
    "    else:\n",
    "        print(\"No single odd or even element\")\n",
    "\n",
    "split_even_odd(numbers)"
   ]
  },
  {
   "cell_type": "code",
   "execution_count": 285,
   "metadata": {},
   "outputs": [
    {
     "data": {
      "text/plain": [
       "[1]"
      ]
     },
     "execution_count": 285,
     "metadata": {},
     "output_type": "execute_result"
    }
   ],
   "source": [
    "def array_diff(a, b):\n",
    "    return list(set(a) - set(b))\n",
    "\n",
    "array_diff([1, 2, 2] , [2])"
   ]
  },
  {
   "cell_type": "code",
   "execution_count": null,
   "metadata": {},
   "outputs": [],
   "source": [
    "def calculate_age(customers):\n",
    "    list1 = []\n",
    "    for customer in customers:\n",
    "       list1.append(2021-customer)\n",
    "    return list1\n",
    "    \n",
    "customers = [1999, 1995, 2005, 2010, 2007, 2006, 1994, 1996, 1979, 2008]\n",
    "calculate_age(customers)"
   ]
  },
  {
   "cell_type": "code",
   "execution_count": null,
   "metadata": {},
   "outputs": [],
   "source": [
    "class Student:\n",
    "    def __init__(self, fname, country, age):\n",
    "        self.fname = fname\n",
    "        self.country = country\n",
    "        self.age = age\n",
    "\n",
    "    def show(self):\n",
    "        print(f'I am {self.fname} from {self.country} and I am {self.age} years old')\n",
    "\n",
    "\n",
    "student1 = Student('Virginia', 'the Dom. Rep.', '39')\n",
    "student1.show()\n"
   ]
  },
  {
   "cell_type": "code",
   "execution_count": null,
   "metadata": {},
   "outputs": [],
   "source": [
    "from datetime import datetime\n",
    "#determine current year so the check updates when run\n",
    "current_year = datetime.now().year\n",
    "\n",
    "customer_list = [\n",
    "    {\"name\": \"Bob\", \"dob\": 1999},\n",
    "    {\"name\": \"Jack\", \"dob\": 1995},\n",
    "    {\"name\": \"Lisa\", \"dob\": 2005},\n",
    "    {\"name\": \"Maria\", \"dob\": 2010},\n",
    "    {\"name\": \"Ben\", \"dob\": 2007},\n",
    "    {\"name\": \"Emma\", \"dob\": 2006},\n",
    "    {\"name\": \"Oscar\", \"dob\": 1994},\n",
    "    {\"name\": \"Amy\", \"dob\": 1996},\n",
    "    {\"name\": \"Paul\", \"dob\": 1979},\n",
    "    {\"name\": \"Etta\", \"dob\": 2008}\n",
    "]\n",
    "#create empty list to populate it with customers of legal drinking age\n",
    "legal_customer_list_names = []\n",
    "\n",
    "#check if customers are 18 or older\n",
    "for customer in customer_list:\n",
    "    if current_year - customer['dob'] >= 18:\n",
    "        legal_customer_list_names.append(customer[\"name\"])\n",
    "\n",
    "#add an age section to the list of dictionaries\n",
    "for customer in customer_list:\n",
    "    customer['age'] = current_year - customer['dob']\n",
    "\n",
    "#add a new true/false 'legal?' key to list of dictionaries\n",
    "for customer in customer_list:\n",
    "    customer['Legal?'] = bool(customer[\"age\"] >= 18)\n",
    "\n",
    "#remove a key from a list of dictionaries. No longer using original list at this point so no error expected.\n",
    "for customer in customer_list:\n",
    "    customer.pop('name')\n",
    "\n",
    "#output list of names of people who are old enough to drink\n",
    "for customer in legal_customer_list_names:\n",
    "    print(customer, \"is allowed to drink\")\n",
    "\n",
    "#print(*customer_list)\n"
   ]
  },
  {
   "cell_type": "code",
   "execution_count": null,
   "metadata": {},
   "outputs": [],
   "source": [
    "%reset"
   ]
  },
  {
   "cell_type": "code",
   "execution_count": 290,
   "metadata": {},
   "outputs": [
    {
     "name": "stdout",
     "output_type": "stream",
     "text": [
      "Maggie, Bart, Lisa, Homer & Marge\n"
     ]
    }
   ],
   "source": [
    "#create a function to check file length and return a formatted result \n",
    "def namelist(names):\n",
    "    names_1 = []\n",
    "#first check if names list is empty and give an empty list as output. Otherwise an error gets shown\n",
    "    if len(names) == 0:\n",
    "        return names_1\n",
    "#next give result when only one entry in list. This does not need commas or & so requires no extra formatting.\n",
    "    elif len(names) == 1:\n",
    "        for person in names:\n",
    "            names_1.append(person['name'])\n",
    "        return names_1\n",
    "#finally give result for multiple names\n",
    "    else:\n",
    "#add all but last name in list to the empty names_1\n",
    "        for person in names[0:-1]:\n",
    "            names_1.append(person['name'])\n",
    "#define the now populated list as a comma separated string\n",
    "            joined_string = \", \".join(names_1)\n",
    "#give a result of the comma separated string, followed by an ampersand and the last name. \n",
    "        return (joined_string, \"&\", names[-1]['name'])\n",
    "\n",
    "names = ([{\"name\": \"Maggie\"}, {\"name\": \"Bart\"}, {\"name\": \"Lisa\"}, {\"name\": \"Homer\"}, {\"name\": \"Marge\"}])\n",
    "print(*namelist(names))"
   ]
  },
  {
   "cell_type": "code",
   "execution_count": 9,
   "metadata": {},
   "outputs": [
    {
     "data": {
      "text/plain": [
       "[1, 2]"
      ]
     },
     "execution_count": 9,
     "metadata": {},
     "output_type": "execute_result"
    }
   ],
   "source": [
    "#In this task, create a function that takes a list of non-negative integers and strings\n",
    "#and returns a new list with the strings filtered out.\n",
    "\n",
    "#use list comprehension with .isdigit in order to convert to int only numeric strings:\n",
    "#tried using string.isdigit() but it returned an error.\n",
    "\n",
    "#used isinstance istead and defined my search as requiring an integer. Works for negative but not float.\n",
    "\n",
    "def filter_list(mixed):\n",
    "    numeric_list = []\n",
    "    for item in mixed:\n",
    "        if isinstance(item, int):\n",
    "            numeric_list.append(item)\n",
    "    return numeric_list\n",
    "\n",
    "filter_list([1,2,'a','b'])\n",
    "#filter_list([1,'a','b',0.5,15])\n",
    "#filter_list([1,-2,'aasf','1','123',123])"
   ]
  },
  {
   "cell_type": "code",
   "execution_count": 11,
   "metadata": {},
   "outputs": [
    {
     "ename": "SyntaxError",
     "evalue": "invalid syntax (<ipython-input-11-8a3c53b5d974>, line 11)",
     "output_type": "error",
     "traceback": [
      "\u001b[1;36m  File \u001b[1;32m\"<ipython-input-11-8a3c53b5d974>\"\u001b[1;36m, line \u001b[1;32m11\u001b[0m\n\u001b[1;33m    indices = [i for i, x in enumerate(find_it) if x == ?]\u001b[0m\n\u001b[1;37m                                                        ^\u001b[0m\n\u001b[1;31mSyntaxError\u001b[0m\u001b[1;31m:\u001b[0m invalid syntax\n"
     ]
    }
   ],
   "source": [
    "#Given an array, find the int that appears an odd number of times.\n",
    "#There will always be only one integer that appears an odd number of times.\n",
    "\n",
    "#The iterator enumerate(my_list) yields pairs (index, item) for each item \n",
    "#in the list. Using i, x as loop variable target unpacks these pairs into the \n",
    "#index i and the list item x. We filter down to all x that match our criterion, \n",
    "#and select the indices i of these elements.\n",
    "\n",
    "\n",
    "find_it = ([20,1,-1,2,-2,3,3,5,5,1,2,4,20,4,-1,-2,5])\n",
    "indices = [i for i, x in enumerate(find_it) if x == ]\n",
    "\n",
    "\n",
    "\n",
    "print(indices)\n",
    "\n",
    "# returns 5"
   ]
  },
  {
   "cell_type": "code",
   "execution_count": 271,
   "metadata": {},
   "outputs": [],
   "source": [
    "%reset"
   ]
  },
  {
   "cell_type": "code",
   "execution_count": 12,
   "metadata": {},
   "outputs": [
    {
     "name": "stdout",
     "output_type": "stream",
     "text": [
      "[1, 3]\n"
     ]
    }
   ],
   "source": [
    "numbers = [1, 2, 3, 4, 5]\n",
    "#numbers[1] #single value\n",
    "#numbers[:4] #blank goes from start or goes to end\n",
    "#numbers[::2] #go up or down in steps\n",
    "#numbers[1, 3] #doesn't work! See below\n",
    "\n",
    "indices = [0, 2]\n",
    "selected_elements = [numbers[index] for index in indices]\n",
    "print(selected_elements)"
   ]
  }
 ],
 "metadata": {
  "interpreter": {
   "hash": "b3ba2566441a7c06988d0923437866b63cedc61552a5af99d1f4fb67d367b25f"
  },
  "kernelspec": {
   "display_name": "Python 3.8.8 64-bit ('base': conda)",
   "name": "python3"
  },
  "language_info": {
   "codemirror_mode": {
    "name": "ipython",
    "version": 3
   },
   "file_extension": ".py",
   "mimetype": "text/x-python",
   "name": "python",
   "nbconvert_exporter": "python",
   "pygments_lexer": "ipython3",
   "version": "3.8.8"
  },
  "orig_nbformat": 4
 },
 "nbformat": 4,
 "nbformat_minor": 2
}
