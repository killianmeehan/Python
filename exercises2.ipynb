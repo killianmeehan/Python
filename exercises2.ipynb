{
 "cells": [
  {
   "cell_type": "code",
   "execution_count": null,
   "metadata": {},
   "outputs": [],
   "source": [
    "%reset"
   ]
  },
  {
   "cell_type": "code",
   "execution_count": null,
   "metadata": {},
   "outputs": [],
   "source": [
    "print(\"Hello World\")"
   ]
  },
  {
   "cell_type": "code",
   "execution_count": null,
   "metadata": {},
   "outputs": [],
   "source": [
    "student_list = [\"Nidhi\", \"Giorgio\", \"Kyung\"]"
   ]
  },
  {
   "cell_type": "code",
   "execution_count": null,
   "metadata": {},
   "outputs": [],
   "source": [
    "def welcome(fname):\n",
    "    print(\"Welcome to CAB \" + fname)\n",
    "    print(\"Happy coding!\")\n",
    "\n",
    "for student in student_list:\n",
    "    welcome(student)\n",
    "\n",
    "#welcome(\"jkhfs\")"
   ]
  },
  {
   "cell_type": "code",
   "execution_count": null,
   "metadata": {},
   "outputs": [],
   "source": [
    "student_list[3]"
   ]
  },
  {
   "cell_type": "code",
   "execution_count": null,
   "metadata": {},
   "outputs": [],
   "source": [
    "student_list.append(\"New Student\")"
   ]
  },
  {
   "cell_type": "code",
   "execution_count": null,
   "metadata": {},
   "outputs": [],
   "source": [
    "student_list"
   ]
  },
  {
   "cell_type": "code",
   "execution_count": null,
   "metadata": {},
   "outputs": [],
   "source": [
    "student_tuple = (\"Nidhi\", \"Giorgio\", \"Kyung\")"
   ]
  },
  {
   "cell_type": "code",
   "execution_count": null,
   "metadata": {},
   "outputs": [],
   "source": [
    "student_tuple.append(\"New Student\")"
   ]
  },
  {
   "cell_type": "code",
   "execution_count": null,
   "metadata": {},
   "outputs": [],
   "source": [
    "student_tuple[1]"
   ]
  },
  {
   "cell_type": "code",
   "execution_count": null,
   "metadata": {},
   "outputs": [],
   "source": [
    "my_age = 34"
   ]
  },
  {
   "cell_type": "code",
   "execution_count": null,
   "metadata": {},
   "outputs": [],
   "source": [
    "glasses = False"
   ]
  },
  {
   "cell_type": "code",
   "execution_count": null,
   "metadata": {},
   "outputs": [],
   "source": [
    "me = {\n",
    "    \"name\": \"Killian\",\n",
    "    \"age\": my_age,\n",
    "    \"has_glasses\": glasses \n",
    "}\n",
    "\n",
    "me"
   ]
  },
  {
   "cell_type": "code",
   "execution_count": null,
   "metadata": {},
   "outputs": [],
   "source": [
    "me[\"has_glasses\"]"
   ]
  },
  {
   "cell_type": "code",
   "execution_count": null,
   "metadata": {},
   "outputs": [],
   "source": [
    "student_details_list = [\n",
    "    {\n",
    "        \"name\": \"Jacopo\",\n",
    "        \"age\": 18,\n",
    "        \"has_glasses\": False\n",
    "    },\n",
    "    {\n",
    "        \"name\": \"Ottavia\",\n",
    "        \"age\": 17,\n",
    "        \"has_glasses\": True\n",
    "    }\n",
    "]"
   ]
  },
  {
   "cell_type": "code",
   "execution_count": null,
   "metadata": {},
   "outputs": [],
   "source": [
    "student_details_list[1][\"name\"]"
   ]
  },
  {
   "cell_type": "code",
   "execution_count": null,
   "metadata": {},
   "outputs": [],
   "source": [
    "a = 5"
   ]
  },
  {
   "cell_type": "code",
   "execution_count": null,
   "metadata": {},
   "outputs": [],
   "source": [
    "a == 5"
   ]
  },
  {
   "cell_type": "code",
   "execution_count": null,
   "metadata": {},
   "outputs": [],
   "source": [
    "a >= 5"
   ]
  },
  {
   "cell_type": "code",
   "execution_count": null,
   "metadata": {},
   "outputs": [],
   "source": [
    "a != 6"
   ]
  },
  {
   "cell_type": "code",
   "execution_count": null,
   "metadata": {},
   "outputs": [],
   "source": [
    "x = 5\n",
    "\n",
    "if x > 5:\n",
    "    print(\"is bigger than 5\")\n",
    "elif x == 5:\n",
    "    print(\"is equal to 5\")\n",
    "elif x >= 4:\n",
    "    print(\"is equal to 4\")\n",
    "else:\n",
    "    print(\"is smaller than 5 and not equal to 4\")"
   ]
  },
  {
   "cell_type": "code",
   "execution_count": null,
   "metadata": {},
   "outputs": [],
   "source": [
    "customer_age = 15\n",
    "\n",
    "if customer_age >= 18:\n",
    "    print(\"you can get a gin tonic\")\n",
    "elif customer_age >= 16:\n",
    "    print(\"you can get a beer\")\n",
    "else:\n",
    "    print(\"you should not drink\")"
   ]
  },
  {
   "cell_type": "code",
   "execution_count": null,
   "metadata": {},
   "outputs": [],
   "source": [
    "for student in student_list:\n",
    "    print(\"Student name is \" + student)"
   ]
  },
  {
   "cell_type": "code",
   "execution_count": null,
   "metadata": {},
   "outputs": [],
   "source": [
    "for student_detail in student_details_list:\n",
    "    if student_detail[\"has_glasses\"] == True:\n",
    "        print(student_detail[\"name\"] + \" has glasses\")\n",
    "    else:\n",
    "        print(student_detail[\"name\"] + \" doesn't have glasses\")"
   ]
  },
  {
   "cell_type": "code",
   "execution_count": null,
   "metadata": {},
   "outputs": [],
   "source": [
    "colors = [\"red\", \"green\", \"yellow\", \"orange\", \"blue\", \"indigo\", \"violet\"]\n",
    "my_color = \"black\"\n",
    "for color in colors:\n",
    "    if my_color == color:\n",
    "        print(my_color + \" is present in the list\")\n",
    "        break\n",
    "    else:\n",
    "        print(my_color + \" is not present in the list\")\n",
    "        break"
   ]
  },
  {
   "cell_type": "code",
   "execution_count": null,
   "metadata": {},
   "outputs": [],
   "source": [
    "while my_color in colors:\n",
    "    print(my_color + \" is present in the list\")\n",
    "    break\n",
    "else:\n",
    "    print(my_color + \" is not present in the list\")"
   ]
  },
  {
   "cell_type": "code",
   "execution_count": null,
   "metadata": {},
   "outputs": [],
   "source": [
    "class_list = [\"Jacopo\", \"Killian\", \"Sarah\", \"Virginia\", \"Ottavia\"]\n",
    "\n",
    "class_list.sort()\n",
    "class_list\n",
    "# sorted_class_list = sorted(class_list)\n",
    "# sorted_class_list\n",
    "# class_list\n"
   ]
  },
  {
   "cell_type": "code",
   "execution_count": null,
   "metadata": {},
   "outputs": [],
   "source": [
    "class_list[0]"
   ]
  },
  {
   "cell_type": "code",
   "execution_count": null,
   "metadata": {},
   "outputs": [],
   "source": [
    "class_list[-1]"
   ]
  },
  {
   "cell_type": "code",
   "execution_count": null,
   "metadata": {},
   "outputs": [],
   "source": [
    "for student in class_list:\n",
    "    print(student + \" is a student of CAB\")"
   ]
  },
  {
   "cell_type": "code",
   "execution_count": null,
   "metadata": {},
   "outputs": [],
   "source": [
    "customer_year_list = [1999, 1995, 2005, 2010, 2007, 2006, 1994, 1996, 1979, 2008]\n",
    "current_year = 2021\n",
    "customer_age_list = []\n",
    "for customer_year in customer_year_list:\n",
    "    customer_age = current_year - customer_year\n",
    "    customer_age_list.append(customer_age)\n",
    "    print(customer_age)\n",
    "    print(customer_age_list)\n",
    "\n",
    "print(\"The final list is: \", customer_age_list)\n",
    "\n",
    "\n"
   ]
  },
  {
   "cell_type": "code",
   "execution_count": null,
   "metadata": {},
   "outputs": [],
   "source": [
    "prime_numbers = [11, 3, 7, 5, 2]\n",
    "\n",
    "# sort the list\n",
    "prime_numbers.sort()\n",
    "print(prime_numbers)\n",
    "\n",
    "# Output: [2, 3, 5, 7, 11]\n"
   ]
  },
  {
   "cell_type": "code",
   "execution_count": null,
   "metadata": {},
   "outputs": [],
   "source": [
    "def welcome(fname, lname):\n",
    "    print(\"Welcome to CAB \" + fname + \" \" + lname + \"!\")\n",
    "    print(\"Happy coding!\")\n",
    "\n",
    "welcome(\"Virginia\", \"Perdomo Cordero\")\n",
    "welcome(\"Ottavia\", \"Feletig\")\n"
   ]
  },
  {
   "cell_type": "code",
   "execution_count": null,
   "metadata": {},
   "outputs": [],
   "source": [
    "print(\"Welcome to CAB Virginia Perdomo Cordero\")\n"
   ]
  },
  {
   "cell_type": "code",
   "execution_count": null,
   "metadata": {},
   "outputs": [],
   "source": [
    "total_of_sum_2 = 0\n",
    "def calculate_sum(number_1, number_2):\n",
    "    total = number_1 + number_2\n",
    "    return total\n",
    "\n",
    "\n",
    "total_of_sum = calculate_sum(2, 3)\n",
    "# print(total_of_sum_2)\n",
    "\n",
    "\n",
    "def communicate_sum(total_of_sum):\n",
    "    print(\"The total is: \", total_of_sum)\n",
    "\n",
    "communicate_sum(total_of_sum)\n"
   ]
  },
  {
   "cell_type": "code",
   "execution_count": 7,
   "metadata": {},
   "outputs": [
    {
     "name": "stdout",
     "output_type": "stream",
     "text": [
      "22\n",
      "26\n",
      "16\n",
      "11\n",
      "14\n",
      "15\n",
      "27\n",
      "25\n",
      "42\n",
      "13\n"
     ]
    }
   ],
   "source": [
    "customers = [1999, 1995, 2005, 2010, 2007, 2006, 1994, 1996, 1979, 2008]\n",
    "\n",
    "for customer in customers:\n",
    "    print(2021 - customer)\n"
   ]
  },
  {
   "cell_type": "code",
   "execution_count": 8,
   "metadata": {},
   "outputs": [],
   "source": [
    "customers.sort()"
   ]
  },
  {
   "cell_type": "code",
   "execution_count": null,
   "metadata": {},
   "outputs": [],
   "source": [
    "def calculate_age(customers):\n",
    "    list = []\n",
    "    for customer in customers:\n",
    "        print(2021 - customer)\n",
    "        list.append(2021 - customer)\n",
    "    return list\n",
    "\n",
    "age_list = calculate_age(customers)\n"
   ]
  },
  {
   "cell_type": "code",
   "execution_count": null,
   "metadata": {},
   "outputs": [],
   "source": []
  },
  {
   "cell_type": "code",
   "execution_count": 11,
   "metadata": {},
   "outputs": [
    {
     "name": "stdout",
     "output_type": "stream",
     "text": [
      "Hello my name is John\n"
     ]
    }
   ],
   "source": [
    "class Person:\n",
    "  def __init__(self, name, age):\n",
    "    self.name = name\n",
    "    self.age = age\n",
    "\n",
    "  def myfunc(self):\n",
    "    print(\"Hello my name is \" + self.name)\n",
    "\n",
    "\n",
    "p1 = Person(\"John\", 36)\n",
    "p1.myfunc()\n",
    "#print(p1.name)\n",
    "#print(p1.age)\n",
    "\n"
   ]
  },
  {
   "cell_type": "code",
   "execution_count": 21,
   "metadata": {},
   "outputs": [
    {
     "name": "stdout",
     "output_type": "stream",
     "text": [
      "{'d'}\n"
     ]
    }
   ],
   "source": [
    "A={'a': 3, 'b': 2, 'c': 2, 'd': 4}\n",
    "B={'a': 2, 'b': 3, 'c': 1}\n",
    "keysA = A.keys()\n",
    "keysB = B.keys()\n",
    "valuesA = A.values()\n",
    "valuesB = B.values()\n",
    "key_diff = keysA - keysB\n",
    "#val_diff = valuesA - valuesB\n",
    "\n",
    "print(key_diff)\n",
    "#print(val_diff)"
   ]
  },
  {
   "cell_type": "code",
   "execution_count": 22,
   "metadata": {},
   "outputs": [
    {
     "data": {
      "text/plain": [
       "True"
      ]
     },
     "execution_count": 22,
     "metadata": {},
     "output_type": "execute_result"
    }
   ],
   "source": [
    "all(map( A.pop, B))"
   ]
  },
  {
   "cell_type": "code",
   "execution_count": 31,
   "metadata": {},
   "outputs": [
    {
     "name": "stdout",
     "output_type": "stream",
     "text": [
      "1st: {'a': 10, 'b': 4, 'c': 7}\n",
      "2nd: {'a': 6, 'b': 6, 'c': 10}\n",
      "2nd - 1st: {'a': -4, 'b': 2, 'c': 3}\n"
     ]
    }
   ],
   "source": [
    "# Using dictionary comprehension + keys()\n",
    " \n",
    "dict1 = {'a' : 4, 'b' : 4, 'c' : 7}\n",
    "dict2 = {'a' : 6, 'b' : 6, 'c' : 10}\n",
    " \n",
    "print('1st:', str(dict1))\n",
    "print('2nd:', str(dict2))\n",
    "\n",
    "# Subtraction of dictionaries\n",
    "res = {key: dict2[key] - dict1.get(key, 0) for key in dict2.keys()}\n",
    "\n",
    "print('2nd - 1st:', res)"
   ]
  }
 ],
 "metadata": {
  "interpreter": {
   "hash": "7c50efc9c5e7cd6763e801f6499f1b1d25a18b544a090ecb533edb37b15d92c1"
  },
  "kernelspec": {
   "display_name": "Python 3.8.3 64-bit ('base': conda)",
   "name": "python3"
  },
  "language_info": {
   "codemirror_mode": {
    "name": "ipython",
    "version": 3
   },
   "file_extension": ".py",
   "mimetype": "text/x-python",
   "name": "python",
   "nbconvert_exporter": "python",
   "pygments_lexer": "ipython3",
   "version": "3.8.8"
  },
  "orig_nbformat": 4
 },
 "nbformat": 4,
 "nbformat_minor": 2
}
