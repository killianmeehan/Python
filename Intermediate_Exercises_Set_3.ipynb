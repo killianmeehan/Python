{
 "cells": [
  {
   "cell_type": "code",
   "execution_count": 1,
   "metadata": {},
   "outputs": [
    {
     "name": "stdout",
     "output_type": "stream",
     "text": [
      "(['himynameis', 'mynameisjoe', 'nameisjoeand', 'isjoeandi', 'joeandiwork', 'andiworkat'], 'nameisjoeand', 12)\n"
     ]
    }
   ],
   "source": [
    "#1\n",
    "\n",
    "def longest_consec(strarr, k):\n",
    "\n",
    "    comb = [''] * (len(strarr)- k + 1)  # create list of empty strings\n",
    "\n",
    "    for i in range(len(strarr)-k+1):            #fill the list comb with the combined words\n",
    "        for j in range (i,i+k):\n",
    "            comb[i] = comb [i] + strarr[j]\n",
    "\n",
    "\n",
    "    lengths = [len(word) for word in comb]\n",
    "    max_num_letters = max(lengths)              # find the length of the longest combined word\n",
    "\n",
    "    for word in comb:\n",
    "        if len(word) == max_num_letters:\n",
    "            return comb, word, max_num_letters  # the first combined word with the maximum length is returned\n",
    "\n",
    "print (longest_consec(['hi', 'my', 'name', 'is', 'joe', 'and', 'i', 'work', 'at'], 4))"
   ]
  },
  {
   "cell_type": "code",
   "execution_count": 28,
   "metadata": {},
   "outputs": [
    {
     "name": "stdout",
     "output_type": "stream",
     "text": [
      "[1, 2, 3, 1, 2, 1, 3, 1, 3, 2, 2]\n",
      "[1, 1]\n",
      "[20, 37, 21]\n"
     ]
    }
   ],
   "source": [
    "#2\n",
    "\n",
    "N = 4\n",
    "lst = [1, 2, 3, 1, 2, 1, 3, 1, 1, 3, 2, 2, 1]\n",
    "new_lst = []\n",
    "for num in lst:\n",
    "    if new_lst.count(num)<N:\n",
    "        new_lst.append(num)\n",
    "\n",
    "print(new_lst)\n",
    "\n",
    "\n",
    "def delete_nth(lst, N):\n",
    "    new_lst = []\n",
    "    for num in lst:\n",
    "        if new_lst.count(num)<N:\n",
    "            new_lst.append(num)\n",
    "    return new_lst\n",
    "\n",
    "\n",
    "print(delete_nth([1,1,1,1],2))\n",
    "print(delete_nth([20,37,20,21],1))"
   ]
  },
  {
   "cell_type": "code",
   "execution_count": 13,
   "metadata": {},
   "outputs": [
    {
     "name": "stdout",
     "output_type": "stream",
     "text": [
      "8 5 12 12 15 13 25 14 1 13 5 9 19 10 15 5\n",
      "20 8 5 19 21 14 19 5 20 19 5 20 19 1 20 20 23 5 12 22 5 15 3 12 15 3 11\n"
     ]
    }
   ],
   "source": [
    "#3\n",
    "\n",
    "def alphabet_position(sentence):\n",
    "\n",
    "    sentence = sentence.lower()\n",
    "\n",
    "    # dict_of_letters = {'a':1, 'b':2, 'c': 3, 'd':4, 'e':5, \n",
    "    # 'f':6, 'g':7, 'h':8,'i':9,'j':10,'k':11,'l':12,'m':13,'n':14,'o':15,\n",
    "    # 'p':16,'q':17,'r':18, 's':19, \n",
    "    # 't':20,'u':21,'v':22,'w':23,'x':24,'y':25,'z':26}\n",
    "\n",
    "    letters = 'abcdefghijklmnopqrstuvwxyz'\n",
    "    list_of_nums = [i for i in range (1,27)]\n",
    "    dict_of_letters = dict(zip(letters, list_of_nums))\n",
    "\n",
    "\n",
    "\n",
    "    only_numbers = [dict_of_letters[char] for char in sentence if char in dict_of_letters]\n",
    "    only_numbers_str = [str(char) for char in only_numbers]\n",
    "    return (' '.join(only_numbers_str))\n",
    "\n",
    "print (alphabet_position('hello my name is joe'))\n",
    "print (alphabet_position(\"The sunset sets at twelve o' clock\"))"
   ]
  },
  {
   "cell_type": "code",
   "execution_count": 64,
   "metadata": {},
   "outputs": [
    {
     "name": "stdout",
     "output_type": "stream",
     "text": [
      "7\n",
      "4\n"
     ]
    }
   ],
   "source": [
    "#4\n",
    "\n",
    "def iq_test (string_of_nums):\n",
    "    separate = string_of_nums.split(' ')    #divide into separate digits (separated by a space)\n",
    "    separate_as_ints = [int(num) for num in separate]     # convert digits from strings into integers\n",
    "    \n",
    "\n",
    "    evens = [True if num % 2 ==0 else False for num in separate_as_ints] # list with True for even nums\n",
    "    odds = [True if num % 2 ==1 else False for num in separate_as_ints] # list with True for odd nums\n",
    "\n",
    "    if sum(evens)>sum(odds):            # if majority evens, we want to find the odd\n",
    "        result = [(index+1, num) for index, num in enumerate (separate_as_ints) if num%2 == 1]\n",
    "    else:                               # if majority odds, we want to find the even\n",
    "        result = [(index+1, num) for index, num in enumerate(separate_as_ints) if num%2 == 0]\n",
    "    \n",
    "    return result[0][0]     #result is a list with one element that is a tuple, and we want to access the 0th element of the tuple.\n",
    "            \n",
    "    \n",
    "\n",
    "print (iq_test(\"1 1 3 5 5 7 8\"))\n",
    "print (iq_test(\"1 1 3 4 5 7 9\"))"
   ]
  },
  {
   "cell_type": "code",
   "execution_count": 75,
   "metadata": {},
   "outputs": [
    {
     "name": "stdout",
     "output_type": "stream",
     "text": [
      "True\n",
      "True\n",
      "False\n"
     ]
    }
   ],
   "source": [
    "#5\n",
    "\n",
    "def scramble(str1, str2):\n",
    "    dict_str1 = {char: str1.count(char) for char in str1}\n",
    "    dict_str2 = {char: str2.count(char) for char in str2}\n",
    "\n",
    "# If any letter in str2 appears more often than it does \n",
    "# in str1, we return False. \n",
    "# Otherwise return True. \n",
    "\n",
    "    for key in dict_str2:                       \n",
    "        if key not in dict_str1:\n",
    "            return False\n",
    "        elif dict_str2[key] > dict_str1[key]:\n",
    "            return False\n",
    "    return True\n",
    "\n",
    "\n",
    "print(scramble('rkqodlw', 'world'))\n",
    "print(scramble('cedewaraaossoqqyt', 'codewars'))\n",
    "print(scramble('katas', 'steak'))"
   ]
  },
  {
   "cell_type": "code",
   "execution_count": 92,
   "metadata": {},
   "outputs": [
    {
     "name": "stdout",
     "output_type": "stream",
     "text": [
      "{'starting index': 3, 'final index': 6, 'maximum sum': 6}\n"
     ]
    }
   ],
   "source": [
    "#6\n",
    "\n",
    "def maxSequence(sequence):\n",
    "\n",
    "    # store length of sequence as variable\n",
    "    length_n = len(sequence)\n",
    "\n",
    "    # Use nested list comprehensions.\n",
    "\n",
    "    # Pick a starting position \"i\" in the sequence. \n",
    "    # Let \"j\" be the position with respect to the \"i\" position. \n",
    "    # Then \"j\" will go from the current \"i\" position to the end of the sequence.\n",
    "    # Every sub-sequence will go from the \"i\" index to the \"j\" index of the sequence.\n",
    "\n",
    "    # For every fixed \"i\", sum all values from \"i\" position to \"j\" position (inner list comprehension)\n",
    "    # Loop \"i\" from start of the sequence to the end (outer list comprehension)\n",
    "\n",
    "    sums_of_sequence = [[sum(sequence[i:j]) for j in range (i+1,length_n + 1)] for i in range (length_n)]\n",
    "    # Now we have a list of sublists.\n",
    "    \n",
    "    # find the maximum value in each sublist\n",
    "    local_max = [max(sub_list) for sub_list in sums_of_sequence]\n",
    "\n",
    "    # now find the global maximum\n",
    "    global_max = max(local_max)\n",
    "\n",
    "\n",
    "    # As a bonus, let's try to find the starting and ending positions of \n",
    "    # the sub-sequence that will sum to the global_max\n",
    "\n",
    "    i_index = local_max.index(global_max) # Starting position\n",
    "    j_index = sums_of_sequence[i_index].index(global_max) # Ending position (with respect to starting position)\n",
    "\n",
    "\n",
    "    return {\"starting index\": i_index, \"final index\": i_index + j_index, \"maximum sum\": global_max}\n",
    "\n",
    "\n",
    "\n",
    "print (maxSequence([-2, 1, -3, 4, -1, 2, 1, -5, 4]))"
   ]
  }
 ],
 "metadata": {
  "interpreter": {
   "hash": "ad2bdc8ecc057115af97d19610ffacc2b4e99fae6737bb82f5d7fb13d2f2c186"
  },
  "kernelspec": {
   "display_name": "Python 3.8.8 ('base')",
   "language": "python",
   "name": "python3"
  },
  "language_info": {
   "codemirror_mode": {
    "name": "ipython",
    "version": 3
   },
   "file_extension": ".py",
   "mimetype": "text/x-python",
   "name": "python",
   "nbconvert_exporter": "python",
   "pygments_lexer": "ipython3",
   "version": "3.8.8"
  },
  "orig_nbformat": 4
 },
 "nbformat": 4,
 "nbformat_minor": 2
}
