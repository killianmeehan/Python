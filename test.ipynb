{
 "cells": [
  {
   "cell_type": "code",
   "execution_count": 43,
   "metadata": {},
   "outputs": [
    {
     "name": "stdout",
     "output_type": "stream",
     "text": [
      "Bob is allowed to drink\n",
      "Jack is allowed to drink\n",
      "Oscar is allowed to drink\n",
      "Amy is allowed to drink\n",
      "Paul is allowed to drink\n"
     ]
    }
   ],
   "source": [
    "from datetime import datetime\n",
    "#determine current year so the check updates when run\n",
    "current_year = datetime.now().year\n",
    "\n",
    "customer_list = [\n",
    "    {\"name\": \"Bob\", \"dob\": 1999},\n",
    "    {\"name\": \"Jack\", \"dob\": 1995},\n",
    "    {\"name\": \"Lisa\", \"dob\": 2005},\n",
    "    {\"name\": \"Maria\", \"dob\": 2010},\n",
    "    {\"name\": \"Ben\", \"dob\": 2007},\n",
    "    {\"name\": \"Emma\", \"dob\": 2006},\n",
    "    {\"name\": \"Oscar\", \"dob\": 1994},\n",
    "    {\"name\": \"Amy\", \"dob\": 1996},\n",
    "    {\"name\": \"Paul\", \"dob\": 1979},\n",
    "    {\"name\": \"Etta\", \"dob\": 2008}\n",
    "]\n",
    "\n",
    "legal_customer_list_names = []\n",
    "\n",
    "for customer in customer_list:\n",
    "    if current_year - customer['dob'] >= 18:\n",
    "        legal_customer_list_names.append(customer[\"name\"])\n",
    "\n",
    "for customer in legal_customer_list_names:\n",
    "    print(customer, \"is allowed to drink\")"
   ]
  },
  {
   "cell_type": "code",
   "execution_count": null,
   "metadata": {},
   "outputs": [],
   "source": []
  }
 ],
 "metadata": {
  "interpreter": {
   "hash": "b3ba2566441a7c06988d0923437866b63cedc61552a5af99d1f4fb67d367b25f"
  },
  "kernelspec": {
   "display_name": "Python 3.8.8 64-bit ('base': conda)",
   "name": "python3"
  },
  "language_info": {
   "name": "python",
   "version": "3.8.8"
  },
  "orig_nbformat": 4
 },
 "nbformat": 4,
 "nbformat_minor": 2
}
