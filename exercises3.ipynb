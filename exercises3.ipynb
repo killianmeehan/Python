{
 "cells": [
  {
   "cell_type": "code",
   "execution_count": 60,
   "metadata": {},
   "outputs": [
    {
     "name": "stdout",
     "output_type": "stream",
     "text": [
      "Killian\n",
      "hello\n"
     ]
    }
   ],
   "source": [
    "my_name = 'Killian'\n",
    "print(my_name)\n",
    "\n",
    "second_name = 'Feletig'\n",
    "\n",
    "print('hello')\n"
   ]
  },
  {
   "cell_type": "code",
   "execution_count": 3,
   "metadata": {},
   "outputs": [
    {
     "name": "stdout",
     "output_type": "stream",
     "text": [
      "34\n"
     ]
    }
   ],
   "source": [
    "age = 34\n",
    "print(age)"
   ]
  },
  {
   "cell_type": "code",
   "execution_count": 4,
   "metadata": {},
   "outputs": [
    {
     "name": "stdout",
     "output_type": "stream",
     "text": [
      "2\n"
     ]
    }
   ],
   "source": [
    "julia_age = 32\n",
    "age_diff = age - julia_age\n",
    "print(age_diff)"
   ]
  },
  {
   "cell_type": "code",
   "execution_count": 5,
   "metadata": {},
   "outputs": [
    {
     "name": "stdout",
     "output_type": "stream",
     "text": [
      "You are older than 21\n"
     ]
    }
   ],
   "source": [
    "if age > 21:\n",
    "    print ('You are older than 21')\n",
    "else: \n",
    "    print ('You are not older than 21')\n"
   ]
  },
  {
   "cell_type": "code",
   "execution_count": 6,
   "metadata": {},
   "outputs": [
    {
     "name": "stdout",
     "output_type": "stream",
     "text": [
      "Julia is younger than you\n"
     ]
    }
   ],
   "source": [
    "if age == julia_age:\n",
    "    print ('You have the same age as Julia')\n",
    "elif age > julia_age:\n",
    "    print ('Julia is younger than you')\n",
    "else: print('Julia is older than you')"
   ]
  },
  {
   "cell_type": "code",
   "execution_count": 7,
   "metadata": {},
   "outputs": [
    {
     "name": "stdout",
     "output_type": "stream",
     "text": [
      "['Arjun', 'Killian', 'Trifon', 'Virginia']\n",
      "Arjun\n",
      "Virginia\n",
      "Arjun\n",
      "Killian\n",
      "Trifon\n",
      "Virginia\n"
     ]
    }
   ],
   "source": [
    "class_list = ['Virginia', 'Killian', 'Trifon', 'Arjun']\n",
    "class_list.sort()\n",
    "print(class_list)\n",
    "print(class_list[0])\n",
    "print(class_list[-1])\n",
    "for name in class_list:\n",
    "    print(name)\n"
   ]
  },
  {
   "cell_type": "code",
   "execution_count": 12,
   "metadata": {},
   "outputs": [
    {
     "name": "stdout",
     "output_type": "stream",
     "text": [
      "33\n",
      "24\n",
      "31\n",
      "24\n"
     ]
    }
   ],
   "source": [
    "age_list = [33, 24, 31]\n",
    "for num in age_list:\n",
    "    print(num)"
   ]
  },
  {
   "cell_type": "code",
   "execution_count": 13,
   "metadata": {},
   "outputs": [
    {
     "name": "stdout",
     "output_type": "stream",
     "text": [
      "24\n"
     ]
    }
   ],
   "source": [
    "for num in age_list:\n",
    "    if num%2 == 0:\n",
    "        print(num)"
   ]
  },
  {
   "cell_type": "code",
   "execution_count": 16,
   "metadata": {},
   "outputs": [
    {
     "name": "stdout",
     "output_type": "stream",
     "text": [
      "33\n",
      "24\n",
      "31\n"
     ]
    }
   ],
   "source": [
    "n = 0\n",
    "while n < len(age_list):\n",
    "    print (age_list[n])\n",
    "    n+=1 #or n=n+1"
   ]
  },
  {
   "cell_type": "code",
   "execution_count": 17,
   "metadata": {},
   "outputs": [
    {
     "name": "stdout",
     "output_type": "stream",
     "text": [
      "24\n"
     ]
    }
   ],
   "source": [
    "n = 0\n",
    "while n < len (age_list):\n",
    "    if age_list[n]%2 == 0:\n",
    "        print (age_list[n])\n",
    "    n+=1"
   ]
  },
  {
   "cell_type": "code",
   "execution_count": 18,
   "metadata": {},
   "outputs": [
    {
     "name": "stdout",
     "output_type": "stream",
     "text": [
      "-12\n"
     ]
    }
   ],
   "source": [
    "nums = [1, 2, 3, 5, 9, 23, 19, 33, -1, 0, -12]\n",
    "print(min(nums))"
   ]
  },
  {
   "cell_type": "code",
   "execution_count": 19,
   "metadata": {},
   "outputs": [
    {
     "name": "stdout",
     "output_type": "stream",
     "text": [
      "33\n"
     ]
    }
   ],
   "source": [
    "print (max(nums))"
   ]
  },
  {
   "cell_type": "code",
   "execution_count": 20,
   "metadata": {},
   "outputs": [
    {
     "name": "stdout",
     "output_type": "stream",
     "text": [
      "1999\n",
      "1995\n",
      "2005\n",
      "2010\n",
      "2007\n",
      "2006\n",
      "1994\n",
      "1996\n",
      "1979\n",
      "2008\n"
     ]
    }
   ],
   "source": [
    "years_of_birth = [1999, 1995, 2005, 2010, 2007, 2006, 1994, 1996, 1979, 2008]\n",
    "for year in years_of_birth:\n",
    "    print (year)"
   ]
  },
  {
   "cell_type": "code",
   "execution_count": 61,
   "metadata": {},
   "outputs": [
    {
     "name": "stdout",
     "output_type": "stream",
     "text": [
      "Bob 23\n",
      "Jack 27\n",
      "Lisa 17\n",
      "Maria 12\n",
      "Ben 15\n",
      "Emma 16\n",
      "Oscar 28\n",
      "Amy 26\n",
      "Paul 43\n",
      "Etta 14\n"
     ]
    }
   ],
   "source": [
    "from datetime import datetime\n",
    "#determine current year so the check updates when run\n",
    "current_year = datetime.now().year\n",
    "\n",
    "customer_list = [\n",
    "                    {\"name\": \"Bob\", \"age\": 1999},\n",
    "                    {\"name\": \"Jack\", \"age\": 1995},\n",
    "                    {\"name\": \"Lisa\", \"age\": 2005},\n",
    "                    {\"name\": \"Maria\", \"age\": 2010},\n",
    "                    {\"name\": \"Ben\", \"age\": 2007},\n",
    "                    {\"name\": \"Emma\", \"age\": 2006},\n",
    "                    {\"name\": \"Oscar\", \"age\": 1994},\n",
    "                    {\"name\": \"Amy\", \"age\": 1996},\n",
    "                    {\"name\": \"Paul\", \"age\": 1979},\n",
    "                    {\"name\": \"Etta\", \"age\": 2008}\n",
    "                ]\n",
    "for person in customer_list:\n",
    "    print (person['name'], current_year-person['age'])"
   ]
  },
  {
   "cell_type": "code",
   "execution_count": 28,
   "metadata": {},
   "outputs": [
    {
     "name": "stdout",
     "output_type": "stream",
     "text": [
      "[11, 12, 13, 14, 20, 23, 24, 25]\n"
     ]
    },
    {
     "data": {
      "text/plain": [
       "'9, 11, 12, 13, 14, 20, 23, 24, 25, 40'"
      ]
     },
     "execution_count": 28,
     "metadata": {},
     "output_type": "execute_result"
    }
   ],
   "source": [
    "ages = [20, 24, 14, 9, 12, 13, 25, 23, 40, 11]\n",
    "ages.sort()\n",
    "middle_ages = ages[1:-1]\n",
    "print(middle_ages)\n",
    "str(ages)[1:-1]"
   ]
  },
  {
   "cell_type": "code",
   "execution_count": 27,
   "metadata": {},
   "outputs": [
    {
     "name": "stdout",
     "output_type": "stream",
     "text": [
      "[9, 11, 12, 13, 14, 20, 23, 24, 25, 40]\n",
      "[11, 12, 13, 14, 20, 23, 24, 25]\n"
     ]
    }
   ],
   "source": [
    "ages = [20, 24, 14, 9, 12, 13, 25, 23, 40, 11]\n",
    "ages.sort()\n",
    "print(ages)\n",
    "ages.pop(0)\n",
    "ages.pop(-1)\n",
    "print(ages)"
   ]
  },
  {
   "cell_type": "code",
   "execution_count": 62,
   "metadata": {},
   "outputs": [
    {
     "name": "stdout",
     "output_type": "stream",
     "text": [
      "[15, 13, 16, 18, 19, 10, 15]\n"
     ]
    }
   ],
   "source": [
    "berlin = [15, 13, 16, 18, 19, 10, 12, 15]\n",
    "munich = [7, 13, 15, 20, 19, 18, 10, 16]\n",
    "common = [num for num in berlin if num in munich]\n",
    "print(common)"
   ]
  },
  {
   "cell_type": "code",
   "execution_count": 66,
   "metadata": {},
   "outputs": [
    {
     "data": {
      "text/plain": [
       "[16, 19, 12, 13]"
      ]
     },
     "execution_count": 66,
     "metadata": {},
     "output_type": "execute_result"
    }
   ],
   "source": [
    "def common_age(a, b):\n",
    "    return list(set(a).intersection(b))\n",
    "    \n",
    "berlin = [15, 13, 16, 18, 19, 10, 12, 12]\n",
    "munich = [7, 13, 15, 20, 19, 18, 10, 16]\n",
    "leipzig = [1, 13, 16, 0, 19, 2, 12]\n",
    "dresden = [5, 13, 15, 8, 19, 18, 6, 16]\n",
    "common_age(leipzig, berlin)"
   ]
  },
  {
   "cell_type": "code",
   "execution_count": 37,
   "metadata": {},
   "outputs": [
    {
     "name": "stdout",
     "output_type": "stream",
     "text": [
      "[10, 13, 15, 16, 18, 19]\n"
     ]
    }
   ],
   "source": [
    "common_no_duplicates = set(common)\n",
    "common_no_duplicates = list(common_no_duplicates)\n",
    "print(common_no_duplicates)"
   ]
  },
  {
   "cell_type": "code",
   "execution_count": 41,
   "metadata": {},
   "outputs": [
    {
     "data": {
      "text/plain": [
       "[10, 13, 15, 16, 18, 19]"
      ]
     },
     "execution_count": 41,
     "metadata": {},
     "output_type": "execute_result"
    }
   ],
   "source": [
    "ages_list = [15,13,16,18,19,15,10]\n",
    "list(set(ages_list))"
   ]
  },
  {
   "cell_type": "code",
   "execution_count": 1,
   "metadata": {},
   "outputs": [
    {
     "name": "stdout",
     "output_type": "stream",
     "text": [
      "Welcome Evelyn, have a nice day!\n",
      "Welcome Jost, have a nice day!\n"
     ]
    }
   ],
   "source": [
    "# Ex 15\n",
    "\n",
    "def welcome(string):\n",
    "    print(f'Welcome {string}, have a nice day!')\n",
    "\n",
    "welcome('Evelyn')\n",
    "welcome('Jost')"
   ]
  },
  {
   "cell_type": "code",
   "execution_count": 71,
   "metadata": {},
   "outputs": [
    {
     "name": "stdout",
     "output_type": "stream",
     "text": [
      "5\n",
      "2\n"
     ]
    }
   ],
   "source": [
    "# Ex 16\n",
    "\n",
    "def get_length(string):\n",
    "    length = len(string)\n",
    "    print (length)\n",
    "\n",
    "get_length('Hello')\n",
    "get_length('Hi')"
   ]
  },
  {
   "cell_type": "code",
   "execution_count": 46,
   "metadata": {},
   "outputs": [
    {
     "name": "stdout",
     "output_type": "stream",
     "text": [
      "No\n"
     ]
    }
   ],
   "source": [
    "def check_even(number):\n",
    "    if number % 2 == 0:\n",
    "        print(\"Yes\")\n",
    "    else:\n",
    "        print(\"No\") \n",
    "        \n",
    "check_even(5)"
   ]
  },
  {
   "cell_type": "code",
   "execution_count": 47,
   "metadata": {},
   "outputs": [
    {
     "name": "stdout",
     "output_type": "stream",
     "text": [
      "Yes\n"
     ]
    }
   ],
   "source": [
    "# Ex 17\n",
    "\n",
    "def check_even2(num):\n",
    "    remainder = num%2\n",
    "    if remainder == 0:\n",
    "        print ('Yes')\n",
    "    else:\n",
    "        print('No')\n",
    "    \n",
    "check_even2(6)"
   ]
  },
  {
   "cell_type": "code",
   "execution_count": 49,
   "metadata": {},
   "outputs": [
    {
     "name": "stdout",
     "output_type": "stream",
     "text": [
      "Bob 23\n",
      "Jack 27\n",
      "Lisa 17\n",
      "Maria 12\n",
      "Ben 15\n",
      "Emma 16\n",
      "Oscar 28\n",
      "Amy 26\n",
      "Paul 43\n",
      "Etta 14\n"
     ]
    }
   ],
   "source": [
    "# Ex 18 – # Ex 11\n",
    "\n",
    "def name_age(dicts_list):\n",
    "    for person in dicts_list:\n",
    "        print (person['name'], 2022-person['age'])\n",
    "\n",
    "customer_list = [\n",
    "                    {\"name\": \"Bob\", \"age\": 1999},\n",
    "                    {\"name\": \"Jack\", \"age\": 1995},\n",
    "                    {\"name\": \"Lisa\", \"age\": 2005},\n",
    "                    {\"name\": \"Maria\", \"age\": 2010},\n",
    "                    {\"name\": \"Ben\", \"age\": 2007},\n",
    "                    {\"name\": \"Emma\", \"age\": 2006},\n",
    "                    {\"name\": \"Oscar\", \"age\": 1994},\n",
    "                    {\"name\": \"Amy\", \"age\": 1996},\n",
    "                    {\"name\": \"Paul\", \"age\": 1979},\n",
    "                    {\"name\": \"Etta\", \"age\": 2008}\n",
    "                ]\n",
    "name_age(customer_list)"
   ]
  },
  {
   "cell_type": "code",
   "execution_count": 50,
   "metadata": {},
   "outputs": [
    {
     "name": "stdout",
     "output_type": "stream",
     "text": [
      "[11, 12, 13, 14, 20, 23, 24, 25]\n"
     ]
    }
   ],
   "source": [
    "# Ex 18 – Ex 12\n",
    "\n",
    "def rem_young_old(list):\n",
    "    list.sort()\n",
    "    list.pop(0)\n",
    "    list.pop(-1)\n",
    "    return list\n",
    "\n",
    "ages = [20, 24, 14, 9, 12, 13, 25, 23, 40, 11]\n",
    "print(rem_young_old(ages))"
   ]
  },
  {
   "cell_type": "code",
   "execution_count": 52,
   "metadata": {},
   "outputs": [
    {
     "name": "stdout",
     "output_type": "stream",
     "text": [
      "[15, 13, 16, 18, 19, 10]\n"
     ]
    }
   ],
   "source": [
    "# Ex 18 – Ex 13\n",
    "\n",
    "def intersect(list1, list2):\n",
    "    in_both = [num for num in list1 if num in list2]\n",
    "    return in_both\n",
    "\n",
    "berlin = [15, 13, 16, 18, 19, 10, 12 ]\n",
    "munich = [7, 13, 15, 20, 19, 18, 10, 16]\n",
    "\n",
    "print(intersect(berlin, munich))"
   ]
  },
  {
   "cell_type": "code",
   "execution_count": 88,
   "metadata": {},
   "outputs": [
    {
     "name": "stdout",
     "output_type": "stream",
     "text": [
      "[15, 13, 16, 18, 19, 10]\n"
     ]
    }
   ],
   "source": [
    "# Ex 18 – Ex 14\n",
    "\n",
    "def rem_dup (list):\n",
    "    stripped = []\n",
    "    for num in list:\n",
    "        if num not in stripped:\n",
    "            stripped.append(num)\n",
    "    return stripped\n",
    "\n",
    "print (rem_dup([15,13,16,18,19,15,10]))"
   ]
  },
  {
   "cell_type": "code",
   "execution_count": 83,
   "metadata": {},
   "outputs": [
    {
     "name": "stdout",
     "output_type": "stream",
     "text": [
      "False\n",
      "True\n"
     ]
    }
   ],
   "source": [
    "# Ex 19\n",
    "\n",
    "def num_finder(list, value):\n",
    "    return value in list\n",
    "\n",
    "print (num_finder({3,2}, 5))\n",
    "print (num_finder([1,3,5], 3))"
   ]
  },
  {
   "cell_type": "code",
   "execution_count": 84,
   "metadata": {},
   "outputs": [
    {
     "data": {
      "text/plain": [
       "True"
      ]
     },
     "execution_count": 84,
     "metadata": {},
     "output_type": "execute_result"
    }
   ],
   "source": [
    "num_finder([1,3,5], 3)"
   ]
  }
 ],
 "metadata": {
  "interpreter": {
   "hash": "ad2bdc8ecc057115af97d19610ffacc2b4e99fae6737bb82f5d7fb13d2f2c186"
  },
  "kernelspec": {
   "display_name": "Python 3.8.8 ('base')",
   "language": "python",
   "name": "python3"
  },
  "language_info": {
   "codemirror_mode": {
    "name": "ipython",
    "version": 3
   },
   "file_extension": ".py",
   "mimetype": "text/x-python",
   "name": "python",
   "nbconvert_exporter": "python",
   "pygments_lexer": "ipython3",
   "version": "3.8.8"
  },
  "orig_nbformat": 4
 },
 "nbformat": 4,
 "nbformat_minor": 2
}
